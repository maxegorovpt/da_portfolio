{
 "cells": [
  {
   "cell_type": "markdown",
   "id": "82b151d2",
   "metadata": {},
   "source": [
    "# Trendsetter Challenge\n",
    "Use this [dataset](https://snap.stanford.edu/data/loc-gowalla.html) to answer the following"
   ]
  },
  {
   "cell_type": "markdown",
   "id": "c8c6f7b5",
   "metadata": {},
   "source": [
    "## Definitions\n",
    "- Assume a “trendsetter” is someone who, in this dataset, visits some of the same\n",
    "locations as another person, before the other person goes to that location.\n",
    "- A “trendsetter score” for a person is the number of distinct locations and people that\n",
    "have visited a location after the \"trendsetter\".\n",
    "- A \"radius of influence\" for a trendsetter is an approximate measurement of the radius of\n",
    "the circle that bounds the places that person has checked in. Assume the earth is flat."
   ]
  },
  {
   "cell_type": "markdown",
   "id": "143e46f9",
   "metadata": {},
   "source": [
    "## Deliverables\n",
    "1. Two tables containing ten rows including the following information:\n",
    "- user_id of the trendsetter\n",
    "- Trendsetter score\n",
    "- Radius of influence\n",
    "2. First table displays trendsetters ranked by score, highest to lowest\n",
    "3. Second table displays trendsetters ranked by radius of influence, highest to lowest"
   ]
  },
  {
   "cell_type": "markdown",
   "id": "0d6be8f0",
   "metadata": {},
   "source": [
    "## Rules\n",
    "- You can use any tools you want to solve this puzzle, except asking for help from other\n",
    "people. Please feel free to email at any time for any clarifications.\n",
    "- Provide source code written to come to your conclusion\n",
    "- If you choose to use an imperative programming language, we give points for \"pure\"\n",
    "solutions, so no additional libraries. The more complex the additional libraries, the more\n",
    "points we deduct.\n",
    "- We also give points for quality code (or deduct for poor quality). Deliberate formatting\n",
    "and well constructed, clear and scalable algorithms are important to us."
   ]
  },
  {
   "cell_type": "markdown",
   "id": "2735433a",
   "metadata": {},
   "source": [
    "## Task Decomposition\n",
    "\n",
    "1. Upload data\n",
    "2. Make clean up and EDA\n",
    "3. Calculate a “trendsetter score”\n",
    "4. Calculate a \"radius of influence\"\n",
    "5. Make QA\n",
    "6. Make Conclusions & Write Report"
   ]
  },
  {
   "cell_type": "markdown",
   "id": "8cc1d047",
   "metadata": {},
   "source": [
    "## 1. Upload Data"
   ]
  },
  {
   "cell_type": "code",
   "execution_count": 1,
   "id": "f19255a6",
   "metadata": {},
   "outputs": [],
   "source": [
    "# import libraries\n",
    "import pandas as pd\n",
    "import numpy as np\n",
    "from datetime import timedelta\n",
    "from matplotlib import pyplot as plt\n",
    "import time\n",
    "from concurrent.futures import ThreadPoolExecutor\n",
    "from geopy.distance import geodesic\n",
    "import folium"
   ]
  },
  {
   "cell_type": "code",
   "execution_count": 2,
   "id": "7e02f544",
   "metadata": {},
   "outputs": [],
   "source": [
    "# upload friends data\n",
    "friendship_df = (pd.read_csv('loc-gowalla_edges.txt', \n",
    "                            sep = \"\\t\", \n",
    "                            header=None, \n",
    "                            names=['user_id', 'users_friend_id'])\n",
    "                )"
   ]
  },
  {
   "cell_type": "code",
   "execution_count": 3,
   "id": "26f9b8b9",
   "metadata": {},
   "outputs": [
    {
     "data": {
      "text/html": [
       "<div>\n",
       "<style scoped>\n",
       "    .dataframe tbody tr th:only-of-type {\n",
       "        vertical-align: middle;\n",
       "    }\n",
       "\n",
       "    .dataframe tbody tr th {\n",
       "        vertical-align: top;\n",
       "    }\n",
       "\n",
       "    .dataframe thead th {\n",
       "        text-align: right;\n",
       "    }\n",
       "</style>\n",
       "<table border=\"1\" class=\"dataframe\">\n",
       "  <thead>\n",
       "    <tr style=\"text-align: right;\">\n",
       "      <th></th>\n",
       "      <th>user_id</th>\n",
       "      <th>users_friend_id</th>\n",
       "    </tr>\n",
       "  </thead>\n",
       "  <tbody>\n",
       "    <tr>\n",
       "      <th>0</th>\n",
       "      <td>0</td>\n",
       "      <td>1</td>\n",
       "    </tr>\n",
       "    <tr>\n",
       "      <th>1</th>\n",
       "      <td>0</td>\n",
       "      <td>2</td>\n",
       "    </tr>\n",
       "    <tr>\n",
       "      <th>2</th>\n",
       "      <td>0</td>\n",
       "      <td>3</td>\n",
       "    </tr>\n",
       "    <tr>\n",
       "      <th>3</th>\n",
       "      <td>0</td>\n",
       "      <td>4</td>\n",
       "    </tr>\n",
       "    <tr>\n",
       "      <th>4</th>\n",
       "      <td>0</td>\n",
       "      <td>5</td>\n",
       "    </tr>\n",
       "  </tbody>\n",
       "</table>\n",
       "</div>"
      ],
      "text/plain": [
       "   user_id  users_friend_id\n",
       "0        0                1\n",
       "1        0                2\n",
       "2        0                3\n",
       "3        0                4\n",
       "4        0                5"
      ]
     },
     "execution_count": 3,
     "metadata": {},
     "output_type": "execute_result"
    }
   ],
   "source": [
    "friendship_df.head()"
   ]
  },
  {
   "cell_type": "code",
   "execution_count": 4,
   "id": "f35640d1",
   "metadata": {},
   "outputs": [
    {
     "name": "stdout",
     "output_type": "stream",
     "text": [
      "<class 'pandas.core.frame.DataFrame'>\n",
      "RangeIndex: 1900654 entries, 0 to 1900653\n",
      "Data columns (total 2 columns):\n",
      " #   Column           Dtype\n",
      "---  ------           -----\n",
      " 0   user_id          int64\n",
      " 1   users_friend_id  int64\n",
      "dtypes: int64(2)\n",
      "memory usage: 29.0 MB\n"
     ]
    }
   ],
   "source": [
    "friendship_df.info()"
   ]
  },
  {
   "cell_type": "code",
   "execution_count": 5,
   "id": "65fa979c",
   "metadata": {},
   "outputs": [],
   "source": [
    "# upload check-ins data\n",
    "checkins_df = (pd.read_csv('loc-gowalla_totalCheckins.txt', \n",
    "                          sep = \"\\t\", \n",
    "                          header=None, \n",
    "                          names=['user_id', 'check_in_time', 'latitude', 'longitude', 'location_id'])\n",
    "              )"
   ]
  },
  {
   "cell_type": "code",
   "execution_count": 6,
   "id": "47229b9e",
   "metadata": {},
   "outputs": [
    {
     "data": {
      "text/html": [
       "<div>\n",
       "<style scoped>\n",
       "    .dataframe tbody tr th:only-of-type {\n",
       "        vertical-align: middle;\n",
       "    }\n",
       "\n",
       "    .dataframe tbody tr th {\n",
       "        vertical-align: top;\n",
       "    }\n",
       "\n",
       "    .dataframe thead th {\n",
       "        text-align: right;\n",
       "    }\n",
       "</style>\n",
       "<table border=\"1\" class=\"dataframe\">\n",
       "  <thead>\n",
       "    <tr style=\"text-align: right;\">\n",
       "      <th></th>\n",
       "      <th>user_id</th>\n",
       "      <th>check_in_time</th>\n",
       "      <th>latitude</th>\n",
       "      <th>longitude</th>\n",
       "      <th>location_id</th>\n",
       "    </tr>\n",
       "  </thead>\n",
       "  <tbody>\n",
       "    <tr>\n",
       "      <th>0</th>\n",
       "      <td>0</td>\n",
       "      <td>2010-10-19T23:55:27Z</td>\n",
       "      <td>30.235909</td>\n",
       "      <td>-97.795140</td>\n",
       "      <td>22847</td>\n",
       "    </tr>\n",
       "    <tr>\n",
       "      <th>1</th>\n",
       "      <td>0</td>\n",
       "      <td>2010-10-18T22:17:43Z</td>\n",
       "      <td>30.269103</td>\n",
       "      <td>-97.749395</td>\n",
       "      <td>420315</td>\n",
       "    </tr>\n",
       "    <tr>\n",
       "      <th>2</th>\n",
       "      <td>0</td>\n",
       "      <td>2010-10-17T23:42:03Z</td>\n",
       "      <td>30.255731</td>\n",
       "      <td>-97.763386</td>\n",
       "      <td>316637</td>\n",
       "    </tr>\n",
       "    <tr>\n",
       "      <th>3</th>\n",
       "      <td>0</td>\n",
       "      <td>2010-10-17T19:26:05Z</td>\n",
       "      <td>30.263418</td>\n",
       "      <td>-97.757597</td>\n",
       "      <td>16516</td>\n",
       "    </tr>\n",
       "    <tr>\n",
       "      <th>4</th>\n",
       "      <td>0</td>\n",
       "      <td>2010-10-16T18:50:42Z</td>\n",
       "      <td>30.274292</td>\n",
       "      <td>-97.740523</td>\n",
       "      <td>5535878</td>\n",
       "    </tr>\n",
       "  </tbody>\n",
       "</table>\n",
       "</div>"
      ],
      "text/plain": [
       "   user_id         check_in_time   latitude  longitude  location_id\n",
       "0        0  2010-10-19T23:55:27Z  30.235909 -97.795140        22847\n",
       "1        0  2010-10-18T22:17:43Z  30.269103 -97.749395       420315\n",
       "2        0  2010-10-17T23:42:03Z  30.255731 -97.763386       316637\n",
       "3        0  2010-10-17T19:26:05Z  30.263418 -97.757597        16516\n",
       "4        0  2010-10-16T18:50:42Z  30.274292 -97.740523      5535878"
      ]
     },
     "execution_count": 6,
     "metadata": {},
     "output_type": "execute_result"
    }
   ],
   "source": [
    "checkins_df.head()"
   ]
  },
  {
   "cell_type": "code",
   "execution_count": 7,
   "id": "b676c8be",
   "metadata": {},
   "outputs": [
    {
     "name": "stdout",
     "output_type": "stream",
     "text": [
      "<class 'pandas.core.frame.DataFrame'>\n",
      "RangeIndex: 6442892 entries, 0 to 6442891\n",
      "Data columns (total 5 columns):\n",
      " #   Column         Dtype  \n",
      "---  ------         -----  \n",
      " 0   user_id        int64  \n",
      " 1   check_in_time  object \n",
      " 2   latitude       float64\n",
      " 3   longitude      float64\n",
      " 4   location_id    int64  \n",
      "dtypes: float64(2), int64(2), object(1)\n",
      "memory usage: 245.8+ MB\n"
     ]
    }
   ],
   "source": [
    "checkins_df.info()"
   ]
  },
  {
   "cell_type": "markdown",
   "id": "9c210ebe",
   "metadata": {},
   "source": [
    "## STAGE 1. CONCLUSIONS:\n",
    "- sucsessfully uploaded data\n",
    "- observed data types and structure"
   ]
  },
  {
   "cell_type": "markdown",
   "id": "fb258614",
   "metadata": {},
   "source": [
    "## 2. Make clean up and EDA"
   ]
  },
  {
   "cell_type": "markdown",
   "id": "61d10fda",
   "metadata": {},
   "source": [
    "#### 2.1. Friendship dataframa clean up"
   ]
  },
  {
   "cell_type": "code",
   "execution_count": 8,
   "id": "5e1cbbc2",
   "metadata": {},
   "outputs": [
    {
     "data": {
      "text/html": [
       "<div>\n",
       "<style scoped>\n",
       "    .dataframe tbody tr th:only-of-type {\n",
       "        vertical-align: middle;\n",
       "    }\n",
       "\n",
       "    .dataframe tbody tr th {\n",
       "        vertical-align: top;\n",
       "    }\n",
       "\n",
       "    .dataframe thead th {\n",
       "        text-align: right;\n",
       "    }\n",
       "</style>\n",
       "<table border=\"1\" class=\"dataframe\">\n",
       "  <thead>\n",
       "    <tr style=\"text-align: right;\">\n",
       "      <th></th>\n",
       "      <th>user_id</th>\n",
       "      <th>users_friend_id</th>\n",
       "    </tr>\n",
       "  </thead>\n",
       "  <tbody>\n",
       "    <tr>\n",
       "      <th>0</th>\n",
       "      <td>0</td>\n",
       "      <td>1</td>\n",
       "    </tr>\n",
       "    <tr>\n",
       "      <th>1</th>\n",
       "      <td>0</td>\n",
       "      <td>2</td>\n",
       "    </tr>\n",
       "    <tr>\n",
       "      <th>2</th>\n",
       "      <td>0</td>\n",
       "      <td>3</td>\n",
       "    </tr>\n",
       "    <tr>\n",
       "      <th>3</th>\n",
       "      <td>0</td>\n",
       "      <td>4</td>\n",
       "    </tr>\n",
       "    <tr>\n",
       "      <th>4</th>\n",
       "      <td>0</td>\n",
       "      <td>5</td>\n",
       "    </tr>\n",
       "  </tbody>\n",
       "</table>\n",
       "</div>"
      ],
      "text/plain": [
       "   user_id  users_friend_id\n",
       "0        0                1\n",
       "1        0                2\n",
       "2        0                3\n",
       "3        0                4\n",
       "4        0                5"
      ]
     },
     "execution_count": 8,
     "metadata": {},
     "output_type": "execute_result"
    }
   ],
   "source": [
    "friendship_df.head()"
   ]
  },
  {
   "cell_type": "code",
   "execution_count": 9,
   "id": "5199795d",
   "metadata": {},
   "outputs": [
    {
     "data": {
      "text/plain": [
       "196591"
      ]
     },
     "execution_count": 9,
     "metadata": {},
     "output_type": "execute_result"
    }
   ],
   "source": [
    "# how many unique users do we have?\n",
    "len(friendship_df['user_id'].unique())"
   ]
  },
  {
   "cell_type": "code",
   "execution_count": 10,
   "id": "f518c086",
   "metadata": {},
   "outputs": [],
   "source": [
    "# calculate number of friens for each user\n",
    "influencers = (friendship_df\n",
    "                    .groupby('user_id')\n",
    "                    .agg({'users_friend_id':'nunique'})\n",
    "                    .reset_index()\n",
    "                    .rename(columns = {\"users_friend_id\":\"friends_count\"})\n",
    "                    .sort_values(by = 'friends_count', ascending = False)\n",
    "              )"
   ]
  },
  {
   "cell_type": "code",
   "execution_count": 11,
   "id": "2e61ba20",
   "metadata": {},
   "outputs": [
    {
     "name": "stdout",
     "output_type": "stream",
     "text": [
      "95 percentile is equal: 34 friends\n",
      "99 percentile is equal: 94 friends\n",
      "99.9 percentile is equal: 336 friends\n",
      "99.99 percentile is equal: 1289 friends\n"
     ]
    }
   ],
   "source": [
    "# evaluate the distribution in terms of percentiles\n",
    "perc = [95, 99, 99.9, 99.99]\n",
    "\n",
    "for i in perc:\n",
    "    print(f'{i} percentile is equal:', round(np.percentile(influencers['friends_count'], i)), 'friends')"
   ]
  },
  {
   "cell_type": "code",
   "execution_count": 12,
   "id": "b261d72c",
   "metadata": {},
   "outputs": [
    {
     "data": {
      "text/plain": [
       "(197, 2)"
      ]
     },
     "execution_count": 12,
     "metadata": {},
     "output_type": "execute_result"
    }
   ],
   "source": [
    "# create a dataframe with top trendsetters\n",
    "list_of_influencers_df = influencers[influencers['friends_count'] >= np.percentile(influencers['friends_count'], 99.9)]\n",
    "list_of_influencers_df.shape"
   ]
  },
  {
   "cell_type": "code",
   "execution_count": 13,
   "id": "ab686dce",
   "metadata": {},
   "outputs": [
    {
     "data": {
      "text/plain": [
       "197"
      ]
     },
     "execution_count": 13,
     "metadata": {},
     "output_type": "execute_result"
    }
   ],
   "source": [
    "list_of_influencers = list(list_of_influencers_df['user_id'])\n",
    "len(list_of_influencers)"
   ]
  },
  {
   "cell_type": "code",
   "execution_count": 14,
   "id": "9d4bee77",
   "metadata": {},
   "outputs": [
    {
     "data": {
      "image/png": "[encoded data removed]",
      "text/plain": [
       "<Figure size 648x432 with 1 Axes>"
      ]
     },
     "metadata": {
      "needs_background": "light"
     },
     "output_type": "display_data"
    }
   ],
   "source": [
    "# make a plot with distrubution of friends among top trendsetters\n",
    "plt.figure(figsize = (9,6))\n",
    "influencers[influencers['friends_count'] >= np.percentile(influencers['friends_count'], 99)]['friends_count'].hist(bins = 100)\n",
    "plt.show()"
   ]
  },
  {
   "cell_type": "markdown",
   "id": "c7a7d16a",
   "metadata": {},
   "source": [
    "#### 2.2. Check-ins DF"
   ]
  },
  {
   "cell_type": "code",
   "execution_count": 15,
   "id": "0ff07988",
   "metadata": {},
   "outputs": [],
   "source": [
    "# transform check-in data from object to datetime, also add some additional columns\n",
    "checkins_df['check_in_time'] = pd.to_datetime(checkins_df['check_in_time'])"
   ]
  },
  {
   "cell_type": "code",
   "execution_count": 16,
   "id": "dc4829ff",
   "metadata": {},
   "outputs": [
    {
     "name": "stdout",
     "output_type": "stream",
     "text": [
      "<class 'pandas.core.frame.DataFrame'>\n",
      "RangeIndex: 6442892 entries, 0 to 6442891\n",
      "Data columns (total 5 columns):\n",
      " #   Column         Dtype              \n",
      "---  ------         -----              \n",
      " 0   user_id        int64              \n",
      " 1   check_in_time  datetime64[ns, UTC]\n",
      " 2   latitude       float64            \n",
      " 3   longitude      float64            \n",
      " 4   location_id    int64              \n",
      "dtypes: datetime64[ns, UTC](1), float64(2), int64(2)\n",
      "memory usage: 245.8 MB\n"
     ]
    }
   ],
   "source": [
    "checkins_df.info()"
   ]
  },
  {
   "cell_type": "code",
   "execution_count": 17,
   "id": "4f3e90bb",
   "metadata": {},
   "outputs": [
    {
     "data": {
      "text/html": [
       "<div>\n",
       "<style scoped>\n",
       "    .dataframe tbody tr th:only-of-type {\n",
       "        vertical-align: middle;\n",
       "    }\n",
       "\n",
       "    .dataframe tbody tr th {\n",
       "        vertical-align: top;\n",
       "    }\n",
       "\n",
       "    .dataframe thead th {\n",
       "        text-align: right;\n",
       "    }\n",
       "</style>\n",
       "<table border=\"1\" class=\"dataframe\">\n",
       "  <thead>\n",
       "    <tr style=\"text-align: right;\">\n",
       "      <th></th>\n",
       "      <th>user_id</th>\n",
       "      <th>check_in_time</th>\n",
       "      <th>latitude</th>\n",
       "      <th>longitude</th>\n",
       "      <th>location_id</th>\n",
       "    </tr>\n",
       "  </thead>\n",
       "  <tbody>\n",
       "    <tr>\n",
       "      <th>0</th>\n",
       "      <td>0</td>\n",
       "      <td>2010-10-19 23:55:27+00:00</td>\n",
       "      <td>30.235909</td>\n",
       "      <td>-97.795140</td>\n",
       "      <td>22847</td>\n",
       "    </tr>\n",
       "    <tr>\n",
       "      <th>1</th>\n",
       "      <td>0</td>\n",
       "      <td>2010-10-18 22:17:43+00:00</td>\n",
       "      <td>30.269103</td>\n",
       "      <td>-97.749395</td>\n",
       "      <td>420315</td>\n",
       "    </tr>\n",
       "    <tr>\n",
       "      <th>2</th>\n",
       "      <td>0</td>\n",
       "      <td>2010-10-17 23:42:03+00:00</td>\n",
       "      <td>30.255731</td>\n",
       "      <td>-97.763386</td>\n",
       "      <td>316637</td>\n",
       "    </tr>\n",
       "    <tr>\n",
       "      <th>3</th>\n",
       "      <td>0</td>\n",
       "      <td>2010-10-17 19:26:05+00:00</td>\n",
       "      <td>30.263418</td>\n",
       "      <td>-97.757597</td>\n",
       "      <td>16516</td>\n",
       "    </tr>\n",
       "    <tr>\n",
       "      <th>4</th>\n",
       "      <td>0</td>\n",
       "      <td>2010-10-16 18:50:42+00:00</td>\n",
       "      <td>30.274292</td>\n",
       "      <td>-97.740523</td>\n",
       "      <td>5535878</td>\n",
       "    </tr>\n",
       "  </tbody>\n",
       "</table>\n",
       "</div>"
      ],
      "text/plain": [
       "   user_id             check_in_time   latitude  longitude  location_id\n",
       "0        0 2010-10-19 23:55:27+00:00  30.235909 -97.795140        22847\n",
       "1        0 2010-10-18 22:17:43+00:00  30.269103 -97.749395       420315\n",
       "2        0 2010-10-17 23:42:03+00:00  30.255731 -97.763386       316637\n",
       "3        0 2010-10-17 19:26:05+00:00  30.263418 -97.757597        16516\n",
       "4        0 2010-10-16 18:50:42+00:00  30.274292 -97.740523      5535878"
      ]
     },
     "execution_count": 17,
     "metadata": {},
     "output_type": "execute_result"
    }
   ],
   "source": [
    "checkins_df.head()"
   ]
  },
  {
   "cell_type": "code",
   "execution_count": 18,
   "id": "697f903e",
   "metadata": {},
   "outputs": [
    {
     "data": {
      "text/plain": [
       "(Timestamp('2009-02-04 05:17:38+0000', tz='UTC'),\n",
       " Timestamp('2010-10-23 05:22:06+0000', tz='UTC'))"
      ]
     },
     "execution_count": 18,
     "metadata": {},
     "output_type": "execute_result"
    }
   ],
   "source": [
    "# check min & max date\n",
    "min(checkins_df['check_in_time']), max(checkins_df['check_in_time'])"
   ]
  },
  {
   "cell_type": "code",
   "execution_count": 19,
   "id": "b180184b",
   "metadata": {},
   "outputs": [
    {
     "data": {
      "text/html": [
       "<div>\n",
       "<style scoped>\n",
       "    .dataframe tbody tr th:only-of-type {\n",
       "        vertical-align: middle;\n",
       "    }\n",
       "\n",
       "    .dataframe tbody tr th {\n",
       "        vertical-align: top;\n",
       "    }\n",
       "\n",
       "    .dataframe thead th {\n",
       "        text-align: right;\n",
       "    }\n",
       "</style>\n",
       "<table border=\"1\" class=\"dataframe\">\n",
       "  <thead>\n",
       "    <tr style=\"text-align: right;\">\n",
       "      <th></th>\n",
       "      <th>user_id</th>\n",
       "      <th>count_checkins</th>\n",
       "    </tr>\n",
       "  </thead>\n",
       "  <tbody>\n",
       "    <tr>\n",
       "      <th>0</th>\n",
       "      <td>0</td>\n",
       "      <td>225</td>\n",
       "    </tr>\n",
       "    <tr>\n",
       "      <th>1</th>\n",
       "      <td>1</td>\n",
       "      <td>12</td>\n",
       "    </tr>\n",
       "    <tr>\n",
       "      <th>2</th>\n",
       "      <td>2</td>\n",
       "      <td>2100</td>\n",
       "    </tr>\n",
       "    <tr>\n",
       "      <th>3</th>\n",
       "      <td>4</td>\n",
       "      <td>225</td>\n",
       "    </tr>\n",
       "    <tr>\n",
       "      <th>4</th>\n",
       "      <td>5</td>\n",
       "      <td>50</td>\n",
       "    </tr>\n",
       "  </tbody>\n",
       "</table>\n",
       "</div>"
      ],
      "text/plain": [
       "   user_id  count_checkins\n",
       "0        0             225\n",
       "1        1              12\n",
       "2        2            2100\n",
       "3        4             225\n",
       "4        5              50"
      ]
     },
     "execution_count": 19,
     "metadata": {},
     "output_type": "execute_result"
    }
   ],
   "source": [
    "# calculate number of check ins for each user and check if there are user with no check ins\n",
    "users_checkins = (checkins_df\n",
    "                    .groupby('user_id')\n",
    "                    .agg({\"location_id\":\"count\"})\n",
    "                    .rename(columns = {\"location_id\":\"count_checkins\"})\n",
    "                    .reset_index()\n",
    "                 )\n",
    "\n",
    "users_checkins.head()                                                                                    "
   ]
  },
  {
   "cell_type": "code",
   "execution_count": 20,
   "id": "e929bc57",
   "metadata": {},
   "outputs": [
    {
     "data": {
      "text/plain": [
       "(89499, 3)"
      ]
     },
     "execution_count": 20,
     "metadata": {},
     "output_type": "execute_result"
    }
   ],
   "source": [
    "# compare user with friends and no check ins\n",
    "users_with_no_check_ins = influencers.merge(users_checkins, how = 'left', on = 'user_id').fillna(0)\n",
    "users_with_no_check_ins.query(\"count_checkins == 0\").shape"
   ]
  },
  {
   "cell_type": "code",
   "execution_count": 21,
   "id": "0a04779a",
   "metadata": {},
   "outputs": [
    {
     "data": {
      "text/html": [
       "<div>\n",
       "<style scoped>\n",
       "    .dataframe tbody tr th:only-of-type {\n",
       "        vertical-align: middle;\n",
       "    }\n",
       "\n",
       "    .dataframe tbody tr th {\n",
       "        vertical-align: top;\n",
       "    }\n",
       "\n",
       "    .dataframe thead th {\n",
       "        text-align: right;\n",
       "    }\n",
       "</style>\n",
       "<table border=\"1\" class=\"dataframe\">\n",
       "  <thead>\n",
       "    <tr style=\"text-align: right;\">\n",
       "      <th></th>\n",
       "      <th>user_id</th>\n",
       "      <th>friends_count</th>\n",
       "      <th>count_checkins</th>\n",
       "    </tr>\n",
       "  </thead>\n",
       "  <tbody>\n",
       "    <tr>\n",
       "      <th>2</th>\n",
       "      <td>505</td>\n",
       "      <td>5420</td>\n",
       "      <td>0.0</td>\n",
       "    </tr>\n",
       "    <tr>\n",
       "      <th>8</th>\n",
       "      <td>207</td>\n",
       "      <td>1953</td>\n",
       "      <td>0.0</td>\n",
       "    </tr>\n",
       "    <tr>\n",
       "      <th>13</th>\n",
       "      <td>3</td>\n",
       "      <td>1539</td>\n",
       "      <td>0.0</td>\n",
       "    </tr>\n",
       "    <tr>\n",
       "      <th>23</th>\n",
       "      <td>1413</td>\n",
       "      <td>1165</td>\n",
       "      <td>0.0</td>\n",
       "    </tr>\n",
       "    <tr>\n",
       "      <th>37</th>\n",
       "      <td>1840</td>\n",
       "      <td>858</td>\n",
       "      <td>0.0</td>\n",
       "    </tr>\n",
       "    <tr>\n",
       "      <th>43</th>\n",
       "      <td>2215</td>\n",
       "      <td>817</td>\n",
       "      <td>0.0</td>\n",
       "    </tr>\n",
       "    <tr>\n",
       "      <th>44</th>\n",
       "      <td>4336</td>\n",
       "      <td>807</td>\n",
       "      <td>0.0</td>\n",
       "    </tr>\n",
       "    <tr>\n",
       "      <th>45</th>\n",
       "      <td>4052</td>\n",
       "      <td>803</td>\n",
       "      <td>0.0</td>\n",
       "    </tr>\n",
       "    <tr>\n",
       "      <th>57</th>\n",
       "      <td>409</td>\n",
       "      <td>719</td>\n",
       "      <td>0.0</td>\n",
       "    </tr>\n",
       "    <tr>\n",
       "      <th>68</th>\n",
       "      <td>5849</td>\n",
       "      <td>645</td>\n",
       "      <td>0.0</td>\n",
       "    </tr>\n",
       "  </tbody>\n",
       "</table>\n",
       "</div>"
      ],
      "text/plain": [
       "    user_id  friends_count  count_checkins\n",
       "2       505           5420             0.0\n",
       "8       207           1953             0.0\n",
       "13        3           1539             0.0\n",
       "23     1413           1165             0.0\n",
       "37     1840            858             0.0\n",
       "43     2215            817             0.0\n",
       "44     4336            807             0.0\n",
       "45     4052            803             0.0\n",
       "57      409            719             0.0\n",
       "68     5849            645             0.0"
      ]
     },
     "execution_count": 21,
     "metadata": {},
     "output_type": "execute_result"
    }
   ],
   "source": [
    "users_with_no_check_ins.query(\"count_checkins == 0\").head(10)"
   ]
  },
  {
   "cell_type": "code",
   "execution_count": 22,
   "id": "1370ac15",
   "metadata": {},
   "outputs": [
    {
     "data": {
      "text/plain": [
       "89499"
      ]
     },
     "execution_count": 22,
     "metadata": {},
     "output_type": "execute_result"
    }
   ],
   "source": [
    "# create a list with such users\n",
    "exclusion_list = users_with_no_check_ins.query(\"count_checkins == 0\")['user_id'].to_list()\n",
    "len(exclusion_list)"
   ]
  },
  {
   "cell_type": "markdown",
   "id": "1b79dbd6",
   "metadata": {},
   "source": [
    "## STAGE 2. CONCLUSIONS:\n",
    "\n",
    "During EDA we checked both dataframe and found out that:\n",
    "- string type for a date column and changed type for a check_in_time column from string to datetime \n",
    "- 95% percentile for users with friends is equal 35 friend\n",
    "- there are users with friends and no check ins\n",
    "- period of check ins between 2009-02-04 and 2010-10-23\n",
    "\n",
    "Therefore I have Questions which have been arised after task review and my assumptions:\n",
    "\n",
    "**Q: What defines a user as a trendsetter?**\n",
    "A: My assumption is that a user can be considered a trendsetter if they have a larger number of friends. We can set a threshold of 99% percentile to select users who might be trendsetters.\n",
    "\n",
    "**Q: What is the time window to determine if a user checked in after a specific trendsetter?**\n",
    "A: My assumption is that friends need some time to follow a trendsetter after a check-in. Therefore, we should establish a suitable time range within which we measure the trendsetter's impact on their friends, for example 48h\n",
    "\n",
    "**Q: Does it matter if the user who checked in is a friend of the influencer?**\n",
    "A: I assume that users can only see check-ins of their friends.\n",
    "\n",
    "**Q: Are there any specific locations to exclude from the check-ins analysis?**\n",
    "A: I would recommend considering this point because some places may be popular without the promotion of a trendsetter.\n",
    "\n",
    "**Q: Are there any requirements regarding seasonality? Should we analyze the entire available period or specific time periods (e.g., one full year)?**\n",
    "A: For the initial analysis, I suggest considering the entire time period. If necessary, we can later break it down into smaller time periods for a more detailed assessment.\n",
    "\n",
    "**Q: Over 45% users do not have check ins data, should we eliminate them during calculation scores? What should we do with users who have many friends but do now make check ins?**\n",
    "A: First of all it is better to understand possibiblities of the app: if it is normal case then OK, but now these users would be eliminated from the calculation"
   ]
  },
  {
   "cell_type": "markdown",
   "id": "c2874b0b",
   "metadata": {},
   "source": [
    "## 3. Calculate Trendsetter Score"
   ]
  },
  {
   "cell_type": "code",
   "execution_count": 23,
   "id": "9bbf3297-a294-4180-95d2-df6da719b754",
   "metadata": {},
   "outputs": [],
   "source": [
    "# Create an empty DataFrame to store the results\n",
    "results_df = pd.DataFrame(columns=['User ID', 'Trendsetter Score'])\n",
    "\n",
    "def calculate_trendsetter_score(user_id, exclusion_list, time_window_hours=48):\n",
    "    if user_id in exclusion_list:\n",
    "        return 0\n",
    "\n",
    "    user_checkins = checkins_df[checkins_df['user_id'] == user_id]\n",
    "    if user_checkins.empty:\n",
    "        return 0\n",
    "\n",
    "    # Friends of the user (excluding excluded)\n",
    "    friends = friendship_df[\n",
    "        (friendship_df['user_id'] == user_id) & (~friendship_df['users_friend_id'].isin(exclusion_list))\n",
    "    ]['users_friend_id'].unique()\n",
    "\n",
    "    influenced_pairs = set()  # store distinct (friend, location)\n",
    "\n",
    "    # For each check-in of the user\n",
    "    for _, u_row in user_checkins.iterrows():\n",
    "        loc = u_row['location_id']\n",
    "        t_user = u_row['check_in_time']\n",
    "        t_window_end = t_user + timedelta(hours=time_window_hours)\n",
    "\n",
    "        # For each friend\n",
    "        for friend_id in friends:\n",
    "            friend_checkins = checkins_df[\n",
    "                (checkins_df['user_id'] == friend_id) & (checkins_df['location_id'] == loc)\n",
    "            ]\n",
    "\n",
    "            if not friend_checkins.empty:\n",
    "                # Friend checks in AFTER user but within window\n",
    "                if ((friend_checkins['check_in_time'] > t_user) &\n",
    "                    (friend_checkins['check_in_time'] <= t_window_end)).any():\n",
    "                    influenced_pairs.add((friend_id, loc))\n",
    "\n",
    "    score = len(influenced_pairs)\n",
    "\n",
    "    # Append to results\n",
    "    results_df.loc[len(results_df)] = [user_id, score]\n",
    "    return score\n"
   ]
  },
  {
   "cell_type": "code",
   "execution_count": 24,
   "id": "f1932466",
   "metadata": {},
   "outputs": [],
   "source": [
    "# # Create an empty DataFrame to store the results\n",
    "# results_df = pd.DataFrame(columns=['User ID', 'Trendsetter Score'])\n",
    "\n",
    "# def calculate_trendsetter_score_v8(user_id, exclusion_list):\n",
    "#     if user_id in exclusion_list:\n",
    "#         return 0\n",
    "\n",
    "#     user_checkins = checkins_df[checkins_df['user_id'] == user_id].copy()\n",
    "#     if user_checkins.empty:\n",
    "#         return 0\n",
    "\n",
    "#     time_window_start = user_checkins['check_in_time'].min()\n",
    "#     time_window_end = time_window_start + timedelta(hours=48)\n",
    "\n",
    "#     user_checkins.loc[:, 'time_window_start'] = time_window_start\n",
    "#     user_checkins.loc[:, 'time_window_end'] = time_window_end\n",
    "\n",
    "#     friends_data = friendship_df[\n",
    "#         (friendship_df['user_id'] == user_id) & (~friendship_df['users_friend_id'].isin(exclusion_list))\n",
    "#     ]\n",
    "\n",
    "#     trendsetter_score = 0\n",
    "\n",
    "#     def calculate_friend_trendsetter_score(friend_id):\n",
    "#         friend_checkins = checkins_df[checkins_df['user_id'] == friend_id]\n",
    "\n",
    "#         # Merge the friend_checkins with user_checkins based on 'location_id'\n",
    "#         friend_location_checkins = pd.merge(\n",
    "#             friend_checkins,\n",
    "#             user_checkins[['location_id', 'time_window_start', 'time_window_end']],\n",
    "#             on='location_id'\n",
    "#         )\n",
    "\n",
    "#         # Apply boolean indexing to filter based on the time window\n",
    "#         friend_location_checkins = friend_location_checkins[\n",
    "#             (friend_location_checkins['check_in_time'] >= friend_location_checkins['time_window_start']) &\n",
    "#             (friend_location_checkins['check_in_time'] <= friend_location_checkins['time_window_end'])\n",
    "#         ]\n",
    "\n",
    "#         return len(user_checkins['location_id'].isin(friend_location_checkins['location_id']))\n",
    "\n",
    "#     with ThreadPoolExecutor(max_workers=10) as executor:\n",
    "#         trendsetter_scores = list(executor.map(calculate_friend_trendsetter_score, friends_data['users_friend_id']))\n",
    "\n",
    "#     trendsetter_score = sum(trendsetter_scores)\n",
    "\n",
    "#     # Append the result to the results_df\n",
    "#     results_df.loc[len(results_df)] = [user_id, trendsetter_score]"
   ]
  },
  {
   "cell_type": "code",
   "execution_count": null,
   "id": "04d48238",
   "metadata": {},
   "outputs": [],
   "source": [
    "# Process the users\n",
    "for user_id in list_of_influencers:\n",
    "    trendsetter_score = calculate_trendsetter_score(user_id, exclusion_list)"
   ]
  },
  {
   "cell_type": "code",
   "execution_count": null,
   "id": "1a2343ae",
   "metadata": {},
   "outputs": [],
   "source": [
    "results_df.info()"
   ]
  },
  {
   "cell_type": "code",
   "execution_count": null,
   "id": "27e2b118",
   "metadata": {},
   "outputs": [],
   "source": [
    "# final data frame with trendsetter scores\n",
    "df_final_one = results_df.sort_values(by = 'Trendsetter Score', ascending = False).head(10)\n",
    "df_final_one"
   ]
  },
  {
   "cell_type": "markdown",
   "id": "7da358d3",
   "metadata": {},
   "source": [
    "## STAGE 3. CONCLUSIONS:\n",
    "We made a function in order to calculate a \"Trendsetter Score\" for a given user based on their check-in data and their friends' check-in data within a specified time window.\n",
    "\n",
    "**Short function's description:**\n",
    "\n",
    "1. This function computes a \"Trendsetter Score\" for a given user, taking into account their check-ins and those of their friends. It does the following:\n",
    "\n",
    "2. Checks if the user is in an exclusion list and returns a score of 0 if they are.\n",
    "\n",
    "3. Retrieves the user's check-ins and establishes a time window of 48 hours based on their earliest check-in.\n",
    "\n",
    "4. Gathers data on the user's friends who are not in the exclusion list.\n",
    "\n",
    "5. Calculates the Trendsetter Score for the user by examining their friends' check-ins within the user's defined time window. The score is based on the number of locations where the user and their friends have both checked in during that time frame.\n"
   ]
  },
  {
   "cell_type": "markdown",
   "id": "4ae65d82",
   "metadata": {},
   "source": [
    "## 4. Calculate Radius of Influence\n"
   ]
  },
  {
   "cell_type": "code",
   "execution_count": null,
   "id": "0eb5172d-a2a6-498b-a91c-e17658b4af97",
   "metadata": {},
   "outputs": [],
   "source": [
    "from itertools import combinations\n",
    "from geopy.distance import geodesic\n",
    "\n",
    "# Step 1: Get all user check-in coordinates\n",
    "user_checkins = checkins_df.groupby('user_id')[['latitude', 'longitude']].agg(lambda x: list(zip(x, x.index))).reset_index()\n",
    "\n",
    "# Step 2: Replace with your influencer list\n",
    "users_list = list_of_influencers.copy()\n",
    "influence_data = []\n",
    "\n",
    "# Step 3: Correct Radius of Influence (based only on user's own check-ins)\n",
    "def calculate_radius_of_influence(user_id, checkins_df):\n",
    "    # Get all distinct locations visited by the user\n",
    "    locs = checkins_df[checkins_df['user_id'] == user_id][['latitude', 'longitude']].drop_duplicates().values\n",
    "    \n",
    "    if len(locs) < 2:\n",
    "        return 0.0\n",
    "    \n",
    "    # Max pairwise distance among user’s own check-ins\n",
    "    max_dist = max(\n",
    "        geodesic(p1, p2).meters\n",
    "        for p1, p2 in combinations(locs, 2)\n",
    "    )\n",
    "    \n",
    "    # Radius = half of diameter\n",
    "    return max_dist / 2\n",
    "\n",
    "for user_id in users_list:\n",
    "    if user_id in exclusion_list:\n",
    "        continue\n",
    "    \n",
    "    influence_radius = calculate_radius_of_influence(user_id, checkins_df)\n",
    "    influence_data.append({\n",
    "        'user_id': user_id,\n",
    "        'radius_of_influence_meters': influence_radius,\n",
    "        'radius_of_influence_kilometers': round(influence_radius / 1000)  # rounded to nearest km\n",
    "    })\n",
    "\n",
    "# Step 4: Build results DataFrame\n",
    "influence_df = pd.DataFrame(influence_data).sort_values(by='radius_of_influence_kilometers', ascending=False)\n",
    "influence_df.head(10)\n"
   ]
  },
  {
   "cell_type": "code",
   "execution_count": null,
   "id": "7163c980",
   "metadata": {},
   "outputs": [],
   "source": [
    "# # Step 1: Calculate User Influence\n",
    "# user_checkins = checkins_df.groupby('user_id')[['latitude', 'longitude']].agg(lambda x: x.tolist()).reset_index()\n",
    "\n",
    "# # Step 2: Replace 'list_of_influencers[:10]' with your actual list of influencers\n",
    "# users_list = list_of_influencers.copy()\n",
    "# influence_data = []\n",
    "\n",
    "# # Step 3: Calculate Radius of Influence for Friends\n",
    "# def calculate_radius_of_influence(user_id, user_data, friend_data):\n",
    "#     influence_radius = 0.0\n",
    "\n",
    "#     for user_location in user_data.itertuples(index=False):\n",
    "#         user_latitude, user_longitude = user_location.latitude[0], user_location.longitude[0]  # Extract the first value from the list\n",
    "#         for friend_location in friend_data.itertuples(index=False):\n",
    "#             friend_latitude, friend_longitude = friend_location.latitude[0], friend_location.longitude[0]  # Extract the first value from the list\n",
    "#             distance = geodesic((user_latitude, user_longitude), (friend_latitude, friend_longitude)).meters\n",
    "#             influence_radius = max(influence_radius, distance)\n",
    "\n",
    "#     return influence_radius\n",
    "\n",
    "# for user_id in users_list:\n",
    "#     # Check if the user is in the exclusion list and skip processing if they are\n",
    "#     if user_id in exclusion_list:\n",
    "#         continue\n",
    "    \n",
    "#     user_data = user_checkins[user_checkins['user_id'] == user_id]\n",
    "#     friend_ids = friendship_df[friendship_df['user_id'] == user_id]['users_friend_id'].tolist()\n",
    "#     friends_data = user_checkins[user_checkins['user_id'].isin(friend_ids)]\n",
    "\n",
    "#     influence_radius = 0.0\n",
    "\n",
    "#     if not friends_data.empty:\n",
    "#         influence_radius = calculate_radius_of_influence(user_id, user_data, friends_data)\n",
    "\n",
    "#     influence_data.append({'user_id': user_id, 'radius_of_influence_meters': influence_radius})\n",
    "\n",
    "# # Step 4 Create a DataFrame with the results\n",
    "# influence_df = pd.DataFrame(influence_data)\n",
    "# influence_df['radius_of_influence_kilometers'] = influence_df['radius_of_influence_meters'] / 1000  # Convert meters to kilometers\n",
    "# influence_df['radius_of_influence_kilometers'] = influence_df['radius_of_influence_kilometers'].apply(lambda x: round(x))  # Round to the nearest kilometer\n",
    "\n",
    "# influence_df\n"
   ]
  },
  {
   "cell_type": "code",
   "execution_count": null,
   "id": "a219b822",
   "metadata": {},
   "outputs": [],
   "source": [
    "influence_df.info()"
   ]
  },
  {
   "cell_type": "code",
   "execution_count": null,
   "id": "22c52645",
   "metadata": {},
   "outputs": [],
   "source": [
    "df_final_two = influence_df[['user_id', 'radius_of_influence_kilometers']].sort_values(by = 'radius_of_influence_kilometers', ascending = False).head(10)\n",
    "df_final_two"
   ]
  },
  {
   "cell_type": "markdown",
   "id": "ffc4b907",
   "metadata": {},
   "source": [
    "## STAGE 4. CONCLUSIONS:\n",
    "We made a function in order to calculate a \"Radius of Influence\" for a given user based on their check-in data and their friends' check-in data within a specified time window.\n",
    "\n",
    "**Short function's description:**\n",
    "\n",
    "1. Aggregates influencer check-in data to create a DataFrame.\n",
    "2. Calculates the influence radius for each influencer by finding the maximum distance to their friends' check-ins.\n",
    "3. Creates a summary DataFrame with influencer IDs and their influence radius in kilometers.\n"
   ]
  },
  {
   "cell_type": "markdown",
   "id": "287a53f3",
   "metadata": {},
   "source": [
    "## 5. Trendsetters Top 10 places on the Map\n"
   ]
  },
  {
   "cell_type": "code",
   "execution_count": null,
   "id": "eb9bfbdb",
   "metadata": {},
   "outputs": [],
   "source": [
    "users_geo_of_top_trendsetters = influence_df[['user_id', 'radius_of_influence_kilometers']].sort_values(by = 'radius_of_influence_kilometers', ascending = False)['user_id'].head(10).to_list()\n",
    "users_geo_of_top_trendsetters"
   ]
  },
  {
   "cell_type": "code",
   "execution_count": null,
   "id": "c78c79ea",
   "metadata": {},
   "outputs": [],
   "source": [
    "result_df = pd.DataFrame(columns=['user_id', 'location_id', 'latitude', 'longitude'])\n",
    "\n",
    "for user_id in users_geo_of_top_trendsetters:\n",
    "    user_checkins = checkins_df[checkins_df['user_id'] == user_id]\n",
    "\n",
    "    # Use value_counts to count the occurrences of each location for the specific user\n",
    "    location_counts = user_checkins['location_id'].value_counts()\n",
    "\n",
    "    # Select the top 10 locations\n",
    "    top_10_locations = location_counts.head(10)\n",
    "\n",
    "    # Get the latitude and longitude for the top 10 locations\n",
    "    top_10_locations_info = checkins_df[checkins_df['location_id'].isin(top_10_locations.index)][['location_id', 'latitude', 'longitude']].drop_duplicates()\n",
    "    \n",
    "    # Add the user_id for each row\n",
    "    top_10_locations_info['user_id'] = user_id\n",
    "\n",
    "    result_df = result_df.append(top_10_locations_info)\n",
    "\n",
    "# Reset the index of the final DataFrame\n",
    "result_df.reset_index(drop=True, inplace=True)\n",
    "\n",
    "# Display the result DataFrame\n",
    "print(result_df)\n"
   ]
  },
  {
   "cell_type": "code",
   "execution_count": null,
   "id": "9c574d10",
   "metadata": {},
   "outputs": [],
   "source": [
    "def create_folium_map(user_id, location_id, latitude, longitude, radius):\n",
    "    # Create a Folium map centered on the user's location\n",
    "    m = folium.Map(location=[latitude, longitude], zoom_start=12)\n",
    "\n",
    "    # Add a marker for user location with a tooltip\n",
    "    folium.Marker([latitude, longitude], tooltip=f\"User {user_id}\").add_to(m)\n",
    "\n",
    "    # Display the map\n",
    "    return m\n",
    "\n",
    "# Sample data with radius added\n",
    "data = [\n",
    "    {'user_id': 792, 'location_id': 753416, 'latitude': 36.676396, 'longitude': -4.491777, 'radius': 0}\n",
    "]\n",
    "\n",
    "\n",
    "# Create a map for each data point and display it\n",
    "for item in data:\n",
    "    folium_map = create_folium_map(item['user_id'], item['location_id'], item['latitude'], item['longitude'], item['radius'])\n",
    "\n",
    "m\n"
   ]
  },
  {
   "cell_type": "markdown",
   "id": "9c605cda",
   "metadata": {},
   "source": [
    "## STAGE 5. CONCLUSIONS:\n",
    "We made a function in order to show on the map trendsetters most populat check ins\n",
    "\n",
    "**Short function's description:**\n",
    "\n",
    "1. We took top 10 trendsetters, count the most populat \n",
    "2. Count the most popular their places\n",
    "3. Ferlect them on the map\n"
   ]
  },
  {
   "cell_type": "markdown",
   "id": "c5c28f35",
   "metadata": {},
   "source": [
    "## 6. Questions about dependenses\n",
    "**Is there a correlation between number of friends and trendsetter score?**"
   ]
  },
  {
   "cell_type": "code",
   "execution_count": null,
   "id": "3cd3c111",
   "metadata": {},
   "outputs": [],
   "source": [
    "q1 = df_final_one.merge(influencers, how = 'left', left_on = 'User ID', right_on = 'user_id')\n",
    "q1"
   ]
  },
  {
   "cell_type": "code",
   "execution_count": null,
   "id": "a6dc5544",
   "metadata": {},
   "outputs": [],
   "source": [
    "q1[\"Trendsetter Score\"] = q1[\"Trendsetter Score\"].astype(int)  # Convert \"Trendsetter Score\" to integers\n",
    "correlation = q1[\"Trendsetter Score\"].corr(q1[\"friends_count\"])\n",
    "print(\"Correlation:\", correlation)\n"
   ]
  },
  {
   "cell_type": "markdown",
   "id": "88e378fd",
   "metadata": {},
   "source": [
    "**A correlation value of 0.46 indicates a positive correlation between the two variables being compared. Specifically, it suggests a moderate positive linear relationship between the variables.**"
   ]
  },
  {
   "cell_type": "markdown",
   "id": "a425b5c1",
   "metadata": {},
   "source": [
    "---"
   ]
  },
  {
   "cell_type": "markdown",
   "id": "e75edaf1",
   "metadata": {},
   "source": [
    "**Is there a correlation between number of friends and radius of influence?**"
   ]
  },
  {
   "cell_type": "code",
   "execution_count": null,
   "id": "4909cdc9",
   "metadata": {},
   "outputs": [],
   "source": [
    "q2 = df_final_two.merge(influencers, how = 'left', left_on = 'user_id', right_on = 'user_id')\n",
    "q2"
   ]
  },
  {
   "cell_type": "code",
   "execution_count": null,
   "id": "d3b07be8",
   "metadata": {},
   "outputs": [],
   "source": [
    "correlation = q2[\"radius_of_influence_kilometers\"].corr(q2[\"friends_count\"])\n",
    "print(\"Correlation:\", correlation)"
   ]
  },
  {
   "cell_type": "markdown",
   "id": "c6716378",
   "metadata": {},
   "source": [
    "**A correlation value of -0.33392 indicates a negative correlation between the two variables being compared**"
   ]
  },
  {
   "cell_type": "markdown",
   "id": "042b9ced",
   "metadata": {},
   "source": [
    "---"
   ]
  },
  {
   "cell_type": "markdown",
   "id": "d34440a5",
   "metadata": {},
   "source": [
    "**Is there a correlation between trensetter score and radius of influence?**"
   ]
  },
  {
   "cell_type": "code",
   "execution_count": null,
   "id": "89be4a32",
   "metadata": {},
   "outputs": [],
   "source": [
    "q3 = df_final_one.merge(df_final_two, how = 'left', left_on = 'User ID', right_on = 'user_id')\n",
    "q3"
   ]
  },
  {
   "cell_type": "markdown",
   "id": "92cc5891",
   "metadata": {},
   "source": [
    "**only 1 user was in the top 10 of both lists, which may indicate that the influence radius of influence and places visited are essentially different ratings and in the example of 10 elements intersect only in 1 case**"
   ]
  },
  {
   "cell_type": "markdown",
   "id": "83053546",
   "metadata": {},
   "source": [
    "## STAGE 6. CONCLUSIONS:\n",
    "We checked correlataion between trensetter score, radius of influence and friends_count\n",
    "\n",
    "**Short function's description:**\n",
    "\n",
    "1. A correlation value of 0.46 indicates a positive correlation between the two variables being compared. Specifically, it suggests a moderate positive linear relationship between the variables\n",
    "2. A correlation value of -0.33392 indicates a negative correlation between the two variables being compared\n",
    "3. Only 1 user was in the top 10 of both lists, which may indicate that the influence radius of influence and places visited are essentially different ratings and in the example of 10 elements intersect only in 1 case"
   ]
  },
  {
   "cell_type": "markdown",
   "id": "9dd759fa",
   "metadata": {},
   "source": [
    "## GENERAL CONCLUSIONS AND OUTCOMES:\n"
   ]
  },
  {
   "cell_type": "markdown",
   "id": "7c28386c",
   "metadata": {},
   "source": [
    "- In this test challenge we get the data of user's friends and checkins. Made clean up and EDA.\n",
    "- After cleaning we pointed at the general business questions which might affect on the research setup.\n",
    "- We calculated trendsetter score and radius of influence of the top users\n",
    "- In addition we made an interactive map with trendsetter's popular check ins, can find it tapping on the ling below - https://carpedatatest-egorov-challenge.streamlit.app/ \n"
   ]
  },
  {
   "cell_type": "markdown",
   "id": "72f0a69e",
   "metadata": {},
   "source": [
    "## REFERENCES AND LINKS:\n"
   ]
  },
  {
   "cell_type": "markdown",
   "id": "920efdba",
   "metadata": {},
   "source": [
    "1. [streamlit documentation](https://docs.streamlit.io/) \n",
    "2. [US Open Data Toolkit](https://www.usopendatatoolkit.org/best-practices-1) \n",
    "3. [12 Best Check-in Apps for Android & iOS](https://freeappsforme.com/check-in-apps/)\n",
    "4. [12 Methods for Visualizing Geospatial Data on a Map](https://www.safegraph.com/guides/visualizing-geospatial-data)"
   ]
  },
  {
   "cell_type": "markdown",
   "id": "da2ac475",
   "metadata": {},
   "source": [
    "# THANKS FOR THIS INTERESTING JOURNEY\n"
   ]
  }
 ],
 "metadata": {
  "kernelspec": {
   "display_name": "Python 3 (ipykernel)",
   "language": "python",
   "name": "python3"
  },
  "language_info": {
   "codemirror_mode": {
    "name": "ipython",
    "version": 3
   },
   "file_extension": ".py",
   "mimetype": "text/x-python",
   "name": "python",
   "nbconvert_exporter": "python",
   "pygments_lexer": "ipython3",
   "version": "3.9.12"
  }
 },
 "nbformat": 4,
 "nbformat_minor": 5
}
