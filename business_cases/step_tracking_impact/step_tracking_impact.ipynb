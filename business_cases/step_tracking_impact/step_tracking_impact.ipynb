{
 "cells": [
  {
   "cell_type": "markdown",
   "id": "0e25d777",
   "metadata": {},
   "source": [
    "# Step Tracking Impact"
   ]
  },
  {
   "cell_type": "markdown",
   "id": "df251b17",
   "metadata": {},
   "source": [
    "## Task Description:"
   ]
  },
  {
   "cell_type": "markdown",
   "id": "cf9340fa",
   "metadata": {},
   "source": [
    "**Task:**\n",
    "- Evaluate whether users' physical activity changes after installing the Sweatcoin app.\n",
    "- The dataset contains daily step count data for a sample of users within a ±2-week range from their registration date.\n",
    "\n",
    "**Data Description:**\n",
    "- user_id – unique user ID\n",
    "- platform – device platform\n",
    "- reg_date – user registration date\n",
    "- steps_date – date of recorded steps\n",
    "- steps – number of steps\n",
    "\n",
    "**Decomposition of the Task:**\n",
    "1. Perform data preprocessing\n",
    "2. Conduct exploratory data analysis (EDA)\n",
    "3. Compare user activity data before and after app installation\n",
    "4. Summarize findings, research results, and provide recommendations"
   ]
  },
  {
   "cell_type": "markdown",
   "id": "ce5e9896",
   "metadata": {},
   "source": [
    "## 1. Data Preprocessing"
   ]
  },
  {
   "cell_type": "code",
   "execution_count": 1,
   "id": "a94bcd6a",
   "metadata": {},
   "outputs": [],
   "source": [
    "# Suppress warnings\n",
    "import warnings\n",
    "warnings.filterwarnings('ignore')\n",
    "\n",
    "import pandas as pd\n",
    "import numpy as np\n",
    "import seaborn as sns\n",
    "import matplotlib.pyplot as plt\n",
    "import datetime\n",
    "from scipy.stats import ttest_ind, wilcoxon, shapiro\n",
    "import bisect\n"
   ]
  },
  {
   "cell_type": "code",
   "execution_count": 2,
   "id": "3d6e25e9",
   "metadata": {},
   "outputs": [],
   "source": [
    "# import data\n",
    "path = 'test_task.csv'\n",
    "df = pd.read_csv(path)"
   ]
  },
  {
   "cell_type": "code",
   "execution_count": 3,
   "id": "d812760a",
   "metadata": {},
   "outputs": [
    {
     "name": "stdout",
     "output_type": "stream",
     "text": [
      "<class 'pandas.core.frame.DataFrame'>\n",
      "RangeIndex: 81549 entries, 0 to 81548\n",
      "Data columns (total 6 columns):\n",
      " #   Column      Non-Null Count  Dtype \n",
      "---  ------      --------------  ----- \n",
      " 0   Unnamed: 0  81549 non-null  int64 \n",
      " 1   user_id     81549 non-null  int64 \n",
      " 2   platform    81426 non-null  object\n",
      " 3   reg_date    81549 non-null  object\n",
      " 4   steps_date  81549 non-null  object\n",
      " 5   steps       81549 non-null  int64 \n",
      "dtypes: int64(3), object(3)\n",
      "memory usage: 3.7+ MB\n"
     ]
    }
   ],
   "source": [
    "# overview\n",
    "df.info()"
   ]
  },
  {
   "cell_type": "code",
   "execution_count": 4,
   "id": "f8b3f9ba",
   "metadata": {},
   "outputs": [
    {
     "data": {
      "text/html": [
       "<div>\n",
       "<style scoped>\n",
       "    .dataframe tbody tr th:only-of-type {\n",
       "        vertical-align: middle;\n",
       "    }\n",
       "\n",
       "    .dataframe tbody tr th {\n",
       "        vertical-align: top;\n",
       "    }\n",
       "\n",
       "    .dataframe thead th {\n",
       "        text-align: right;\n",
       "    }\n",
       "</style>\n",
       "<table border=\"1\" class=\"dataframe\">\n",
       "  <thead>\n",
       "    <tr style=\"text-align: right;\">\n",
       "      <th></th>\n",
       "      <th>Unnamed: 0</th>\n",
       "      <th>user_id</th>\n",
       "      <th>platform</th>\n",
       "      <th>reg_date</th>\n",
       "      <th>steps_date</th>\n",
       "      <th>steps</th>\n",
       "    </tr>\n",
       "  </thead>\n",
       "  <tbody>\n",
       "    <tr>\n",
       "      <th>0</th>\n",
       "      <td>0</td>\n",
       "      <td>41785284</td>\n",
       "      <td>IOS</td>\n",
       "      <td>2021-04-21</td>\n",
       "      <td>2021-04-13</td>\n",
       "      <td>458</td>\n",
       "    </tr>\n",
       "    <tr>\n",
       "      <th>1</th>\n",
       "      <td>1</td>\n",
       "      <td>41792465</td>\n",
       "      <td>IOS</td>\n",
       "      <td>2021-04-21</td>\n",
       "      <td>2021-04-13</td>\n",
       "      <td>5750</td>\n",
       "    </tr>\n",
       "    <tr>\n",
       "      <th>2</th>\n",
       "      <td>2</td>\n",
       "      <td>41494466</td>\n",
       "      <td>IOS</td>\n",
       "      <td>2021-03-28</td>\n",
       "      <td>2021-04-01</td>\n",
       "      <td>5635</td>\n",
       "    </tr>\n",
       "    <tr>\n",
       "      <th>3</th>\n",
       "      <td>3</td>\n",
       "      <td>41583452</td>\n",
       "      <td>IOS</td>\n",
       "      <td>2021-04-02</td>\n",
       "      <td>2021-04-01</td>\n",
       "      <td>1840</td>\n",
       "    </tr>\n",
       "    <tr>\n",
       "      <th>4</th>\n",
       "      <td>4</td>\n",
       "      <td>41637532</td>\n",
       "      <td>IOS</td>\n",
       "      <td>2021-04-07</td>\n",
       "      <td>2021-04-01</td>\n",
       "      <td>3127</td>\n",
       "    </tr>\n",
       "  </tbody>\n",
       "</table>\n",
       "</div>"
      ],
      "text/plain": [
       "   Unnamed: 0   user_id platform    reg_date  steps_date  steps\n",
       "0           0  41785284      IOS  2021-04-21  2021-04-13    458\n",
       "1           1  41792465      IOS  2021-04-21  2021-04-13   5750\n",
       "2           2  41494466      IOS  2021-03-28  2021-04-01   5635\n",
       "3           3  41583452      IOS  2021-04-02  2021-04-01   1840\n",
       "4           4  41637532      IOS  2021-04-07  2021-04-01   3127"
      ]
     },
     "execution_count": 4,
     "metadata": {},
     "output_type": "execute_result"
    }
   ],
   "source": [
    "# overview\n",
    "df.head()"
   ]
  },
  {
   "cell_type": "markdown",
   "id": "a1ab2c0f",
   "metadata": {},
   "source": [
    "### 1.1. Rename columns to reflect the meaning"
   ]
  },
  {
   "cell_type": "code",
   "execution_count": 5,
   "id": "8fece71f",
   "metadata": {},
   "outputs": [],
   "source": [
    "# Rename columns to reflect their meaning\n",
    "df = df.rename(columns={'steps': 'cnt_steps'}).drop(columns=['Unnamed: 0'])"
   ]
  },
  {
   "cell_type": "markdown",
   "id": "1e7435dc",
   "metadata": {},
   "source": [
    "### 1.2. Find Null values in columns"
   ]
  },
  {
   "cell_type": "code",
   "execution_count": 6,
   "id": "80893245",
   "metadata": {},
   "outputs": [
    {
     "name": "stdout",
     "output_type": "stream",
     "text": [
      "column user_id count of null 0\n",
      "column platform count of null 123\n",
      "column reg_date count of null 0\n",
      "column steps_date count of null 0\n",
      "column cnt_steps count of null 0\n"
     ]
    }
   ],
   "source": [
    "# find null values in columns\n",
    "for i in df.columns:\n",
    "    x = df[i].isna().sum()\n",
    "    print('column', i, 'count of null', x)"
   ]
  },
  {
   "cell_type": "code",
   "execution_count": 7,
   "id": "f5ebf22c",
   "metadata": {},
   "outputs": [
    {
     "data": {
      "text/html": [
       "<div>\n",
       "<style scoped>\n",
       "    .dataframe tbody tr th:only-of-type {\n",
       "        vertical-align: middle;\n",
       "    }\n",
       "\n",
       "    .dataframe tbody tr th {\n",
       "        vertical-align: top;\n",
       "    }\n",
       "\n",
       "    .dataframe thead th {\n",
       "        text-align: right;\n",
       "    }\n",
       "</style>\n",
       "<table border=\"1\" class=\"dataframe\">\n",
       "  <thead>\n",
       "    <tr style=\"text-align: right;\">\n",
       "      <th></th>\n",
       "      <th>user_id</th>\n",
       "      <th>platform</th>\n",
       "      <th>reg_date</th>\n",
       "      <th>steps_date</th>\n",
       "      <th>cnt_steps</th>\n",
       "    </tr>\n",
       "  </thead>\n",
       "  <tbody>\n",
       "    <tr>\n",
       "      <th>380</th>\n",
       "      <td>41316658</td>\n",
       "      <td>NaN</td>\n",
       "      <td>2021-03-19</td>\n",
       "      <td>2021-03-18</td>\n",
       "      <td>4749</td>\n",
       "    </tr>\n",
       "    <tr>\n",
       "      <th>708</th>\n",
       "      <td>41232611</td>\n",
       "      <td>NaN</td>\n",
       "      <td>2021-03-11</td>\n",
       "      <td>2021-03-08</td>\n",
       "      <td>0</td>\n",
       "    </tr>\n",
       "    <tr>\n",
       "      <th>2047</th>\n",
       "      <td>41580994</td>\n",
       "      <td>NaN</td>\n",
       "      <td>2021-04-01</td>\n",
       "      <td>2021-03-27</td>\n",
       "      <td>0</td>\n",
       "    </tr>\n",
       "    <tr>\n",
       "      <th>2380</th>\n",
       "      <td>40971110</td>\n",
       "      <td>NaN</td>\n",
       "      <td>2021-02-07</td>\n",
       "      <td>2021-02-06</td>\n",
       "      <td>0</td>\n",
       "    </tr>\n",
       "    <tr>\n",
       "      <th>2826</th>\n",
       "      <td>41393245</td>\n",
       "      <td>NaN</td>\n",
       "      <td>2021-03-22</td>\n",
       "      <td>2021-03-31</td>\n",
       "      <td>1023</td>\n",
       "    </tr>\n",
       "    <tr>\n",
       "      <th>2854</th>\n",
       "      <td>40971110</td>\n",
       "      <td>NaN</td>\n",
       "      <td>2021-02-07</td>\n",
       "      <td>2021-01-26</td>\n",
       "      <td>0</td>\n",
       "    </tr>\n",
       "    <tr>\n",
       "      <th>3488</th>\n",
       "      <td>41232611</td>\n",
       "      <td>NaN</td>\n",
       "      <td>2021-03-11</td>\n",
       "      <td>2021-03-06</td>\n",
       "      <td>0</td>\n",
       "    </tr>\n",
       "    <tr>\n",
       "      <th>3547</th>\n",
       "      <td>40971110</td>\n",
       "      <td>NaN</td>\n",
       "      <td>2021-02-07</td>\n",
       "      <td>2021-02-10</td>\n",
       "      <td>223</td>\n",
       "    </tr>\n",
       "    <tr>\n",
       "      <th>4400</th>\n",
       "      <td>41393245</td>\n",
       "      <td>NaN</td>\n",
       "      <td>2021-03-22</td>\n",
       "      <td>2021-03-16</td>\n",
       "      <td>2354</td>\n",
       "    </tr>\n",
       "    <tr>\n",
       "      <th>4840</th>\n",
       "      <td>41316658</td>\n",
       "      <td>NaN</td>\n",
       "      <td>2021-03-19</td>\n",
       "      <td>2021-03-11</td>\n",
       "      <td>11700</td>\n",
       "    </tr>\n",
       "  </tbody>\n",
       "</table>\n",
       "</div>"
      ],
      "text/plain": [
       "       user_id platform    reg_date  steps_date  cnt_steps\n",
       "380   41316658      NaN  2021-03-19  2021-03-18       4749\n",
       "708   41232611      NaN  2021-03-11  2021-03-08          0\n",
       "2047  41580994      NaN  2021-04-01  2021-03-27          0\n",
       "2380  40971110      NaN  2021-02-07  2021-02-06          0\n",
       "2826  41393245      NaN  2021-03-22  2021-03-31       1023\n",
       "2854  40971110      NaN  2021-02-07  2021-01-26          0\n",
       "3488  41232611      NaN  2021-03-11  2021-03-06          0\n",
       "3547  40971110      NaN  2021-02-07  2021-02-10        223\n",
       "4400  41393245      NaN  2021-03-22  2021-03-16       2354\n",
       "4840  41316658      NaN  2021-03-19  2021-03-11      11700"
      ]
     },
     "execution_count": 7,
     "metadata": {},
     "output_type": "execute_result"
    }
   ],
   "source": [
    "# overview platform, why is empty?\n",
    "df.loc[df['platform'].isna()].head(10)"
   ]
  },
  {
   "cell_type": "code",
   "execution_count": 8,
   "id": "83c020ea",
   "metadata": {},
   "outputs": [
    {
     "data": {
      "image/png": "[encoded data removed]",
      "text/plain": [
       "<Figure size 432x288 with 1 Axes>"
      ]
     },
     "metadata": {
      "needs_background": "light"
     },
     "output_type": "display_data"
    }
   ],
   "source": [
    "# make a plot for rows with null platform\n",
    "plt.figure(figsize=(6,4))\n",
    "plt.title('Distribution steps with null platform')\n",
    "df.loc[df['platform'].isna()]['cnt_steps'].hist(bins = 20)\n",
    "plt.show()"
   ]
  },
  {
   "cell_type": "code",
   "execution_count": 9,
   "id": "f10191f4",
   "metadata": {},
   "outputs": [
    {
     "data": {
      "text/plain": [
       "count      123.000000\n",
       "mean      3265.878049\n",
       "std       4596.785861\n",
       "min          0.000000\n",
       "25%          0.000000\n",
       "50%       1610.000000\n",
       "75%       4699.000000\n",
       "max      22148.000000\n",
       "Name: cnt_steps, dtype: float64"
      ]
     },
     "execution_count": 9,
     "metadata": {},
     "output_type": "execute_result"
    }
   ],
   "source": [
    "# overview\n",
    "df.loc[df['platform'].isna()]['cnt_steps'].describe()"
   ]
  },
  {
   "cell_type": "code",
   "execution_count": 10,
   "id": "9515aebc",
   "metadata": {},
   "outputs": [
    {
     "name": "stdout",
     "output_type": "stream",
     "text": [
      "Nan values 123\n",
      "percent Nan values 0.15\n"
     ]
    }
   ],
   "source": [
    "# perc of null data\n",
    "null_value_cnt = len(df.loc[df['platform'].isna()])\n",
    "print('Nan values', null_value_cnt)\n",
    "\n",
    "nan_perc = round(null_value_cnt / len(df) * 100,2)\n",
    "print('percent Nan values', nan_perc)"
   ]
  },
  {
   "cell_type": "markdown",
   "id": "c49ca45e",
   "metadata": {},
   "source": [
    "**The data contains less than 0.5% missing values, so these rows will be removed.Discussion questions: How might a user hide the device? What could be the reason for missing platform data?**"
   ]
  },
  {
   "cell_type": "code",
   "execution_count": 11,
   "id": "cfac5643",
   "metadata": {},
   "outputs": [],
   "source": [
    "# delete null data\n",
    "df = df.drop(df.loc[df['platform'].isna()].index)"
   ]
  },
  {
   "cell_type": "markdown",
   "id": "84e78667",
   "metadata": {},
   "source": [
    "### 1.3. Change types of columns"
   ]
  },
  {
   "cell_type": "code",
   "execution_count": 12,
   "id": "6521a205",
   "metadata": {},
   "outputs": [],
   "source": [
    "# change types for date columns\n",
    "for i in df.columns:\n",
    "    if i in ['steps_date', 'reg_date']:\n",
    "        df[i] = pd.to_datetime(df[i])"
   ]
  },
  {
   "cell_type": "code",
   "execution_count": 13,
   "id": "6fd3c930",
   "metadata": {},
   "outputs": [
    {
     "name": "stdout",
     "output_type": "stream",
     "text": [
      "<class 'pandas.core.frame.DataFrame'>\n",
      "Index: 81426 entries, 0 to 81548\n",
      "Data columns (total 5 columns):\n",
      " #   Column      Non-Null Count  Dtype         \n",
      "---  ------      --------------  -----         \n",
      " 0   user_id     81426 non-null  int64         \n",
      " 1   platform    81426 non-null  object        \n",
      " 2   reg_date    81426 non-null  datetime64[ns]\n",
      " 3   steps_date  81426 non-null  datetime64[ns]\n",
      " 4   cnt_steps   81426 non-null  int64         \n",
      "dtypes: datetime64[ns](2), int64(2), object(1)\n",
      "memory usage: 3.7+ MB\n"
     ]
    }
   ],
   "source": [
    "# overview\n",
    "df.info()"
   ]
  },
  {
   "cell_type": "markdown",
   "id": "9eac7093",
   "metadata": {},
   "source": [
    "### 1.3. Find Duplicates"
   ]
  },
  {
   "cell_type": "code",
   "execution_count": 14,
   "id": "b81cfb8f",
   "metadata": {},
   "outputs": [
    {
     "data": {
      "text/plain": [
       "0"
      ]
     },
     "execution_count": 14,
     "metadata": {},
     "output_type": "execute_result"
    }
   ],
   "source": [
    "# check df for duplicated rows\n",
    "df.duplicated().sum()"
   ]
  },
  {
   "cell_type": "markdown",
   "id": "72fa684a-202b-42f5-8b43-77c0858fa04b",
   "metadata": {},
   "source": [
    "### 1.5. Find Outliers"
   ]
  },
  {
   "cell_type": "code",
   "execution_count": 15,
   "id": "62e9fc4c",
   "metadata": {},
   "outputs": [
    {
     "data": {
      "text/plain": [
       "count    81426.000000\n",
       "mean      3934.520116\n",
       "std       4826.883150\n",
       "min          0.000000\n",
       "25%        105.000000\n",
       "50%       2189.000000\n",
       "75%       6027.750000\n",
       "max      60043.000000\n",
       "Name: cnt_steps, dtype: float64"
      ]
     },
     "execution_count": 15,
     "metadata": {},
     "output_type": "execute_result"
    }
   ],
   "source": [
    "# overview\n",
    "df['cnt_steps'].describe()"
   ]
  },
  {
   "cell_type": "code",
   "execution_count": 16,
   "id": "016f9a53",
   "metadata": {},
   "outputs": [
    {
     "name": "stdout",
     "output_type": "stream",
     "text": [
      "for column cnt_steps thresholds of 90, 95 and 99 perc are, 10515.0, 13738.0, 20767.25\n"
     ]
    }
   ],
   "source": [
    "# check column cnt_steps to find outbursts\n",
    "threshold_90 = np.percentile(df['cnt_steps'], 90)\n",
    "threshold_95 = np.percentile(df['cnt_steps'], 95)\n",
    "threshold_99 = np.percentile(df['cnt_steps'], 99)\n",
    "print(f'for column cnt_steps thresholds of 90, 95 and 99 perc are, {threshold_90}, {threshold_95}, {threshold_99}')"
   ]
  },
  {
   "cell_type": "code",
   "execution_count": 17,
   "id": "5ea40396",
   "metadata": {
    "scrolled": true
   },
   "outputs": [
    {
     "data": {
      "image/png": "[encoded data removed]",
      "text/plain": [
       "<Figure size 1296x360 with 3 Axes>"
      ]
     },
     "metadata": {
      "needs_background": "light"
     },
     "output_type": "display_data"
    }
   ],
   "source": [
    "# Thresholds for filtering\n",
    "threshold_list = [threshold_99, threshold_95, threshold_90]\n",
    "\n",
    "# Create subplots\n",
    "fig, axes = plt.subplots(1, 3, figsize=(18, 5))  # 1 row, 3 columns\n",
    "\n",
    "# Plot each histogram in its respective subplot\n",
    "for idx, threshold in enumerate(threshold_list):\n",
    "    ax = axes[idx]\n",
    "    df[df['cnt_steps'] < threshold]['cnt_steps'].hist(bins=20, ax=ax)\n",
    "    ax.set_title(f'Steps < {threshold}')\n",
    "    ax.set_xlabel('cnt_steps')\n",
    "    ax.set_ylabel('Frequency')\n",
    "\n",
    "plt.tight_layout()\n",
    "plt.show()\n"
   ]
  },
  {
   "cell_type": "code",
   "execution_count": 18,
   "id": "ca0bb129",
   "metadata": {},
   "outputs": [
    {
     "data": {
      "text/plain": [
       "1339"
      ]
     },
     "execution_count": 18,
     "metadata": {},
     "output_type": "execute_result"
    }
   ],
   "source": [
    "# how many users with 0 steps?\n",
    "df.loc[df['cnt_steps'] == 0]['user_id'].nunique()"
   ]
  },
  {
   "cell_type": "code",
   "execution_count": 19,
   "id": "c200f3dc",
   "metadata": {},
   "outputs": [
    {
     "data": {
      "text/html": [
       "<div>\n",
       "<style scoped>\n",
       "    .dataframe tbody tr th:only-of-type {\n",
       "        vertical-align: middle;\n",
       "    }\n",
       "\n",
       "    .dataframe tbody tr th {\n",
       "        vertical-align: top;\n",
       "    }\n",
       "\n",
       "    .dataframe thead th {\n",
       "        text-align: right;\n",
       "    }\n",
       "</style>\n",
       "<table border=\"1\" class=\"dataframe\">\n",
       "  <thead>\n",
       "    <tr style=\"text-align: right;\">\n",
       "      <th></th>\n",
       "      <th>platform</th>\n",
       "      <th>cnt_unique_users</th>\n",
       "      <th>cnt_rows</th>\n",
       "    </tr>\n",
       "  </thead>\n",
       "  <tbody>\n",
       "    <tr>\n",
       "      <th>0</th>\n",
       "      <td>ANDROID</td>\n",
       "      <td>1337</td>\n",
       "      <td>18714</td>\n",
       "    </tr>\n",
       "    <tr>\n",
       "      <th>1</th>\n",
       "      <td>IOS</td>\n",
       "      <td>2</td>\n",
       "      <td>28</td>\n",
       "    </tr>\n",
       "  </tbody>\n",
       "</table>\n",
       "</div>"
      ],
      "text/plain": [
       "  platform  cnt_unique_users  cnt_rows\n",
       "0  ANDROID              1337     18714\n",
       "1      IOS                 2        28"
      ]
     },
     "execution_count": 19,
     "metadata": {},
     "output_type": "execute_result"
    }
   ],
   "source": [
    "# how many users with 0 steps via platform?\n",
    "zero_steps_eda = (df.loc[df['cnt_steps'] == 0]\n",
    "                        .groupby('platform')\n",
    "                        .agg({'user_id' : 'nunique', 'cnt_steps' : 'count'})\n",
    "                        .reset_index()\n",
    "                        .rename(columns = {'user_id' : 'cnt_unique_users', 'cnt_steps' : 'cnt_rows'})\n",
    "                )\n",
    "\n",
    "zero_steps_eda"
   ]
  },
  {
   "cell_type": "code",
   "execution_count": 20,
   "id": "3932f63b",
   "metadata": {},
   "outputs": [
    {
     "data": {
      "text/plain": [
       "23.02"
      ]
     },
     "execution_count": 20,
     "metadata": {},
     "output_type": "execute_result"
    }
   ],
   "source": [
    "# how many users with 0 steps via platform (perc)?\n",
    "round(zero_steps_eda['cnt_rows'].sum() / df['cnt_steps'].count() * 100, 2)"
   ]
  },
  {
   "cell_type": "markdown",
   "id": "c0a69f8b",
   "metadata": {},
   "source": [
    "- Over 20% of the data has zero steps, that’s a significant amount.\n",
    "- Discussion questions: How can the app record 0 steps (e.g., when a user opens the app without walking, or during complete inactivity)? What issues exist with step tracking? Why is this issue particularly relevant for Android?\n",
    "- Since the dataset is large, we won’t delete these records for now, but we will keep this point in mind!"
   ]
  },
  {
   "cell_type": "markdown",
   "id": "e34b9b57",
   "metadata": {},
   "source": [
    "### Data Preprocessing. Conclusions:\n",
    "1. Renamed columns for clarity\n",
    "2. Removed unnecessary data\n",
    "3. Dropped rows with missing platform information\n",
    "4. Identified a high number of users with zero recorded steps\n",
    "5. Highlighted key discussion questions"
   ]
  },
  {
   "cell_type": "markdown",
   "id": "dc6593e9",
   "metadata": {},
   "source": [
    "## 2. Exploratory Data Analysis"
   ]
  },
  {
   "cell_type": "markdown",
   "id": "17759630",
   "metadata": {},
   "source": [
    "### 2.1. Count of unique users"
   ]
  },
  {
   "cell_type": "code",
   "execution_count": 21,
   "id": "e38e4161",
   "metadata": {},
   "outputs": [
    {
     "data": {
      "text/plain": [
       "3526"
      ]
     },
     "execution_count": 21,
     "metadata": {},
     "output_type": "execute_result"
    }
   ],
   "source": [
    "len(df['user_id'].unique())"
   ]
  },
  {
   "cell_type": "markdown",
   "id": "7f23890f",
   "metadata": {},
   "source": [
    "### 2.2. Count of unique users via platforms "
   ]
  },
  {
   "cell_type": "code",
   "execution_count": 22,
   "id": "9e07a093",
   "metadata": {},
   "outputs": [
    {
     "data": {
      "text/html": [
       "<div>\n",
       "<style scoped>\n",
       "    .dataframe tbody tr th:only-of-type {\n",
       "        vertical-align: middle;\n",
       "    }\n",
       "\n",
       "    .dataframe tbody tr th {\n",
       "        vertical-align: top;\n",
       "    }\n",
       "\n",
       "    .dataframe thead th {\n",
       "        text-align: right;\n",
       "    }\n",
       "</style>\n",
       "<table border=\"1\" class=\"dataframe\">\n",
       "  <thead>\n",
       "    <tr style=\"text-align: right;\">\n",
       "      <th></th>\n",
       "      <th>platform</th>\n",
       "      <th>cnt_unique_users</th>\n",
       "      <th>cnt_user_records</th>\n",
       "      <th>record_per_user</th>\n",
       "    </tr>\n",
       "  </thead>\n",
       "  <tbody>\n",
       "    <tr>\n",
       "      <th>0</th>\n",
       "      <td>ANDROID</td>\n",
       "      <td>1393</td>\n",
       "      <td>34794</td>\n",
       "      <td>24.98</td>\n",
       "    </tr>\n",
       "    <tr>\n",
       "      <th>1</th>\n",
       "      <td>IOS</td>\n",
       "      <td>2133</td>\n",
       "      <td>46632</td>\n",
       "      <td>21.86</td>\n",
       "    </tr>\n",
       "  </tbody>\n",
       "</table>\n",
       "</div>"
      ],
      "text/plain": [
       "  platform  cnt_unique_users  cnt_user_records  record_per_user\n",
       "0  ANDROID              1393             34794            24.98\n",
       "1      IOS              2133             46632            21.86"
      ]
     },
     "execution_count": 22,
     "metadata": {},
     "output_type": "execute_result"
    }
   ],
   "source": [
    "# make a pivot to find the answer\n",
    "platform_dist = (df\n",
    "                    .groupby('platform')\n",
    "                    .agg({'user_id':'nunique', 'platform':'count'})\n",
    "                    .rename(columns = {'user_id' : 'cnt_unique_users', 'platform' : 'cnt_user_records'})\n",
    "                    .reset_index()\n",
    "                )\n",
    "\n",
    "platform_dist['record_per_user'] = round(platform_dist['cnt_user_records'] / platform_dist['cnt_unique_users'],2)\n",
    "platform_dist"
   ]
  },
  {
   "cell_type": "code",
   "execution_count": 23,
   "id": "da14d696",
   "metadata": {},
   "outputs": [
    {
     "data": {
      "image/png": "[encoded data removed]",
      "text/plain": [
       "<Figure size 576x432 with 1 Axes>"
      ]
     },
     "metadata": {},
     "output_type": "display_data"
    }
   ],
   "source": [
    "# Data\n",
    "labels = platform_dist['platform']\n",
    "sizes = platform_dist['cnt_unique_users']\n",
    "explode = [0.05] * len(labels)  # Slightly \"explode\" all slices for effect\n",
    "colors = plt.cm.Set2.colors  # Clean, colorful palette\n",
    "\n",
    "# Plot\n",
    "fig, ax = plt.subplots(figsize=(8, 6))\n",
    "wedges, texts, autotexts = ax.pie(\n",
    "    sizes,\n",
    "    labels=labels,\n",
    "    autopct='%1.1f%%',\n",
    "    startangle=90,\n",
    "    explode=explode,\n",
    "    colors=colors,\n",
    "    textprops={'fontsize': 12, 'color': 'black'}\n",
    ")\n",
    "\n",
    "# Styling\n",
    "ax.axis('equal')  # Equal aspect ratio ensures pie is circular\n",
    "plt.setp(autotexts, weight='bold')  # Make percentages bold\n",
    "plt.title('User Distribution by Platform', fontsize=14, weight='bold')\n",
    "\n",
    "plt.tight_layout()\n",
    "plt.show()\n"
   ]
  },
  {
   "cell_type": "markdown",
   "id": "1e7e429f",
   "metadata": {},
   "source": [
    "### 2.3. What period is the data for?"
   ]
  },
  {
   "cell_type": "code",
   "execution_count": 24,
   "id": "7f2282b9",
   "metadata": {},
   "outputs": [
    {
     "name": "stdout",
     "output_type": "stream",
     "text": [
      "Minimum reg_date: 2021-01-15 00:00:00 Maximum reg_date: 2021-04-22 00:00:00\n",
      "Minimum steps_date: 2021-01-01 00:00:00 Maximum steps_date: 2021-04-22 00:00:00\n"
     ]
    }
   ],
   "source": [
    "print('Minimum reg_date:', df['reg_date'].min(), 'Maximum reg_date:', df['reg_date'].max())\n",
    "print('Minimum steps_date:', df['steps_date'].min(), 'Maximum steps_date:', df['steps_date'].max())"
   ]
  },
  {
   "cell_type": "markdown",
   "id": "38d43fd2",
   "metadata": {},
   "source": [
    "**Note on the data: the data covers winter and spring periods, so seasonality may be present.**"
   ]
  },
  {
   "cell_type": "code",
   "execution_count": 25,
   "id": "645f6350",
   "metadata": {},
   "outputs": [
    {
     "data": {
      "text/html": [
       "<div>\n",
       "<style scoped>\n",
       "    .dataframe tbody tr th:only-of-type {\n",
       "        vertical-align: middle;\n",
       "    }\n",
       "\n",
       "    .dataframe tbody tr th {\n",
       "        vertical-align: top;\n",
       "    }\n",
       "\n",
       "    .dataframe thead th {\n",
       "        text-align: right;\n",
       "    }\n",
       "</style>\n",
       "<table border=\"1\" class=\"dataframe\">\n",
       "  <thead>\n",
       "    <tr style=\"text-align: right;\">\n",
       "      <th></th>\n",
       "      <th>user_id</th>\n",
       "      <th>reg_date</th>\n",
       "    </tr>\n",
       "  </thead>\n",
       "  <tbody>\n",
       "  </tbody>\n",
       "</table>\n",
       "</div>"
      ],
      "text/plain": [
       "Empty DataFrame\n",
       "Columns: [user_id, reg_date]\n",
       "Index: []"
      ]
     },
     "execution_count": 25,
     "metadata": {},
     "output_type": "execute_result"
    }
   ],
   "source": [
    "# check if there is more than 1 registration date for user?\n",
    "more_than_one_reg = (df\n",
    "                    .groupby('user_id')\n",
    "                    .agg({'reg_date':'nunique'})\n",
    "                    .reset_index()\n",
    "                    .query(\"reg_date > 1\")\n",
    "                )\n",
    "\n",
    "more_than_one_reg"
   ]
  },
  {
   "cell_type": "code",
   "execution_count": 26,
   "id": "142f15c9",
   "metadata": {},
   "outputs": [
    {
     "data": {
      "text/html": [
       "<div>\n",
       "<style scoped>\n",
       "    .dataframe tbody tr th:only-of-type {\n",
       "        vertical-align: middle;\n",
       "    }\n",
       "\n",
       "    .dataframe tbody tr th {\n",
       "        vertical-align: top;\n",
       "    }\n",
       "\n",
       "    .dataframe thead th {\n",
       "        text-align: right;\n",
       "    }\n",
       "</style>\n",
       "<table border=\"1\" class=\"dataframe\">\n",
       "  <thead>\n",
       "    <tr style=\"text-align: right;\">\n",
       "      <th></th>\n",
       "      <th>user_id</th>\n",
       "      <th>cnt_unique_date_with_steps</th>\n",
       "      <th>cnt_date_with_steps</th>\n",
       "    </tr>\n",
       "  </thead>\n",
       "  <tbody>\n",
       "  </tbody>\n",
       "</table>\n",
       "</div>"
      ],
      "text/plain": [
       "Empty DataFrame\n",
       "Columns: [user_id, cnt_unique_date_with_steps, cnt_date_with_steps]\n",
       "Index: []"
      ]
     },
     "execution_count": 26,
     "metadata": {},
     "output_type": "execute_result"
    }
   ],
   "source": [
    "# check if there is more than 1 date for unique days?\n",
    "more_than_one_un_act = (df\n",
    "                    .groupby('user_id')\n",
    "                    .agg({'steps_date':'nunique', 'platform':'count'})\n",
    "                    .rename(columns = {'steps_date' : 'cnt_unique_date_with_steps', 'platform' : 'cnt_date_with_steps'})\n",
    "                    .reset_index()                    \n",
    "                )\n",
    "\n",
    "more_than_one_un_act.loc[(more_than_one_un_act['cnt_date_with_steps'] - more_than_one_un_act['cnt_unique_date_with_steps']) != 0]"
   ]
  },
  {
   "cell_type": "markdown",
   "id": "147bf857",
   "metadata": {},
   "source": [
    "### 2.4. How many days before & after registration do we have?"
   ]
  },
  {
   "cell_type": "code",
   "execution_count": 27,
   "id": "7b066f9a",
   "metadata": {},
   "outputs": [
    {
     "data": {
      "text/html": [
       "<div>\n",
       "<style scoped>\n",
       "    .dataframe tbody tr th:only-of-type {\n",
       "        vertical-align: middle;\n",
       "    }\n",
       "\n",
       "    .dataframe tbody tr th {\n",
       "        vertical-align: top;\n",
       "    }\n",
       "\n",
       "    .dataframe thead th {\n",
       "        text-align: right;\n",
       "    }\n",
       "</style>\n",
       "<table border=\"1\" class=\"dataframe\">\n",
       "  <thead>\n",
       "    <tr style=\"text-align: right;\">\n",
       "      <th></th>\n",
       "      <th>user_id</th>\n",
       "      <th>reg_date</th>\n",
       "      <th>steps_date_min</th>\n",
       "      <th>steps_date_max</th>\n",
       "      <th>reg_date_first</th>\n",
       "      <th>days_before_reg</th>\n",
       "      <th>days_after_reg</th>\n",
       "      <th>reg_mark</th>\n",
       "    </tr>\n",
       "  </thead>\n",
       "  <tbody>\n",
       "    <tr>\n",
       "      <th>0</th>\n",
       "      <td>16661153</td>\n",
       "      <td>2021-03-25</td>\n",
       "      <td>2021-03-11</td>\n",
       "      <td>2021-03-24</td>\n",
       "      <td>2021-03-25</td>\n",
       "      <td>14</td>\n",
       "      <td>-1</td>\n",
       "      <td>max_dt_before_reg</td>\n",
       "    </tr>\n",
       "    <tr>\n",
       "      <th>1</th>\n",
       "      <td>19161801</td>\n",
       "      <td>2021-02-26</td>\n",
       "      <td>2021-02-12</td>\n",
       "      <td>2021-03-11</td>\n",
       "      <td>2021-02-26</td>\n",
       "      <td>14</td>\n",
       "      <td>13</td>\n",
       "      <td>max_dt_after_reg</td>\n",
       "    </tr>\n",
       "    <tr>\n",
       "      <th>2</th>\n",
       "      <td>19761882</td>\n",
       "      <td>2021-01-15</td>\n",
       "      <td>2021-01-01</td>\n",
       "      <td>2021-01-16</td>\n",
       "      <td>2021-01-15</td>\n",
       "      <td>14</td>\n",
       "      <td>1</td>\n",
       "      <td>max_dt_after_reg</td>\n",
       "    </tr>\n",
       "    <tr>\n",
       "      <th>3</th>\n",
       "      <td>20395818</td>\n",
       "      <td>2021-01-24</td>\n",
       "      <td>2021-01-10</td>\n",
       "      <td>2021-01-28</td>\n",
       "      <td>2021-01-24</td>\n",
       "      <td>14</td>\n",
       "      <td>4</td>\n",
       "      <td>max_dt_after_reg</td>\n",
       "    </tr>\n",
       "    <tr>\n",
       "      <th>4</th>\n",
       "      <td>20702719</td>\n",
       "      <td>2021-01-16</td>\n",
       "      <td>2021-01-02</td>\n",
       "      <td>2021-01-29</td>\n",
       "      <td>2021-01-16</td>\n",
       "      <td>14</td>\n",
       "      <td>13</td>\n",
       "      <td>max_dt_after_reg</td>\n",
       "    </tr>\n",
       "  </tbody>\n",
       "</table>\n",
       "</div>"
      ],
      "text/plain": [
       "    user_id   reg_date steps_date_min steps_date_max reg_date_first  \\\n",
       "0  16661153 2021-03-25     2021-03-11     2021-03-24     2021-03-25   \n",
       "1  19161801 2021-02-26     2021-02-12     2021-03-11     2021-02-26   \n",
       "2  19761882 2021-01-15     2021-01-01     2021-01-16     2021-01-15   \n",
       "3  20395818 2021-01-24     2021-01-10     2021-01-28     2021-01-24   \n",
       "4  20702719 2021-01-16     2021-01-02     2021-01-29     2021-01-16   \n",
       "\n",
       "   days_before_reg  days_after_reg           reg_mark  \n",
       "0               14              -1  max_dt_before_reg  \n",
       "1               14              13   max_dt_after_reg  \n",
       "2               14               1   max_dt_after_reg  \n",
       "3               14               4   max_dt_after_reg  \n",
       "4               14              13   max_dt_after_reg  "
      ]
     },
     "execution_count": 27,
     "metadata": {},
     "output_type": "execute_result"
    }
   ],
   "source": [
    "# pivot\n",
    "days_bef_aft_reg = (df\n",
    "                    .groupby(['user_id', 'reg_date'])\n",
    "                    .agg({'steps_date':['min', 'max'], 'reg_date':'first'})\n",
    "                )\n",
    "\n",
    "# reset multi index\n",
    "days_bef_aft_reg.columns = days_bef_aft_reg.columns.map('_'.join)\n",
    "days_bef_aft_reg = days_bef_aft_reg.reset_index()\n",
    "\n",
    "# add new columns\n",
    "days_bef_aft_reg['days_before_reg'] = ((days_bef_aft_reg['reg_date'] - days_bef_aft_reg['steps_date_min']) / np.timedelta64(1, 'D')).astype(int)\n",
    "days_bef_aft_reg['days_after_reg'] = ((days_bef_aft_reg['steps_date_max'] - days_bef_aft_reg['reg_date']) / np.timedelta64(1, 'D')).astype(int)\n",
    "days_bef_aft_reg['reg_mark'] = days_bef_aft_reg['days_after_reg'].apply(lambda x: 'max_dt_before_reg' if int(x) < 0 else 'max_dt_is_reg_date' if int(x) == 0 else 'max_dt_after_reg')\n",
    "\n",
    "# print\n",
    "days_bef_aft_reg.head()"
   ]
  },
  {
   "cell_type": "code",
   "execution_count": 28,
   "id": "c63bb228",
   "metadata": {},
   "outputs": [
    {
     "data": {
      "text/html": [
       "<div>\n",
       "<style scoped>\n",
       "    .dataframe tbody tr th:only-of-type {\n",
       "        vertical-align: middle;\n",
       "    }\n",
       "\n",
       "    .dataframe tbody tr th {\n",
       "        vertical-align: top;\n",
       "    }\n",
       "\n",
       "    .dataframe thead th {\n",
       "        text-align: right;\n",
       "    }\n",
       "</style>\n",
       "<table border=\"1\" class=\"dataframe\">\n",
       "  <thead>\n",
       "    <tr style=\"text-align: right;\">\n",
       "      <th></th>\n",
       "      <th>reg_mark</th>\n",
       "      <th>cnt_unique_users</th>\n",
       "    </tr>\n",
       "  </thead>\n",
       "  <tbody>\n",
       "    <tr>\n",
       "      <th>0</th>\n",
       "      <td>max_dt_after_reg</td>\n",
       "      <td>2883</td>\n",
       "    </tr>\n",
       "    <tr>\n",
       "      <th>1</th>\n",
       "      <td>max_dt_before_reg</td>\n",
       "      <td>459</td>\n",
       "    </tr>\n",
       "    <tr>\n",
       "      <th>2</th>\n",
       "      <td>max_dt_is_reg_date</td>\n",
       "      <td>184</td>\n",
       "    </tr>\n",
       "  </tbody>\n",
       "</table>\n",
       "</div>"
      ],
      "text/plain": [
       "             reg_mark  cnt_unique_users\n",
       "0    max_dt_after_reg              2883\n",
       "1   max_dt_before_reg               459\n",
       "2  max_dt_is_reg_date               184"
      ]
     },
     "execution_count": 28,
     "metadata": {},
     "output_type": "execute_result"
    }
   ],
   "source": [
    "# pivot users with registration mark\n",
    "(days_bef_aft_reg\n",
    "        .groupby('reg_mark')\n",
    "        .agg({'user_id' : 'nunique'})\n",
    "        .reset_index()\n",
    "        .rename(columns = {'user_id' : 'cnt_unique_users'})\n",
    ")"
   ]
  },
  {
   "cell_type": "markdown",
   "id": "a61404b0",
   "metadata": {},
   "source": [
    "**For the purposes of the analysis, we need a user group whose maximum activity date is greeater than their registration date. Note: it is possible to use app without registration**"
   ]
  },
  {
   "cell_type": "code",
   "execution_count": 29,
   "id": "6f219cf1",
   "metadata": {},
   "outputs": [],
   "source": [
    "# join tables\n",
    "df = df.merge(days_bef_aft_reg, on = ['user_id', 'reg_date'], how = 'left')"
   ]
  },
  {
   "cell_type": "code",
   "execution_count": 30,
   "id": "ba5e8d2d",
   "metadata": {},
   "outputs": [],
   "source": [
    "# select users with data after registration\n",
    "final_df = df.loc[df['reg_mark'] == 'max_dt_after_reg']"
   ]
  },
  {
   "cell_type": "code",
   "execution_count": 31,
   "id": "1e926e28",
   "metadata": {},
   "outputs": [
    {
     "data": {
      "text/html": [
       "<div>\n",
       "<style scoped>\n",
       "    .dataframe tbody tr th:only-of-type {\n",
       "        vertical-align: middle;\n",
       "    }\n",
       "\n",
       "    .dataframe tbody tr th {\n",
       "        vertical-align: top;\n",
       "    }\n",
       "\n",
       "    .dataframe thead th {\n",
       "        text-align: right;\n",
       "    }\n",
       "</style>\n",
       "<table border=\"1\" class=\"dataframe\">\n",
       "  <thead>\n",
       "    <tr style=\"text-align: right;\">\n",
       "      <th></th>\n",
       "      <th>user_id</th>\n",
       "      <th>platform</th>\n",
       "      <th>reg_date</th>\n",
       "      <th>steps_date</th>\n",
       "      <th>cnt_steps</th>\n",
       "      <th>steps_date_min</th>\n",
       "      <th>steps_date_max</th>\n",
       "      <th>reg_date_first</th>\n",
       "      <th>days_before_reg</th>\n",
       "      <th>days_after_reg</th>\n",
       "      <th>reg_mark</th>\n",
       "    </tr>\n",
       "  </thead>\n",
       "  <tbody>\n",
       "    <tr>\n",
       "      <th>2</th>\n",
       "      <td>41494466</td>\n",
       "      <td>IOS</td>\n",
       "      <td>2021-03-28</td>\n",
       "      <td>2021-04-01</td>\n",
       "      <td>5635</td>\n",
       "      <td>2021-03-14</td>\n",
       "      <td>2021-04-10</td>\n",
       "      <td>2021-03-28</td>\n",
       "      <td>14</td>\n",
       "      <td>13</td>\n",
       "      <td>max_dt_after_reg</td>\n",
       "    </tr>\n",
       "    <tr>\n",
       "      <th>3</th>\n",
       "      <td>41583452</td>\n",
       "      <td>IOS</td>\n",
       "      <td>2021-04-02</td>\n",
       "      <td>2021-04-01</td>\n",
       "      <td>1840</td>\n",
       "      <td>2021-03-19</td>\n",
       "      <td>2021-04-15</td>\n",
       "      <td>2021-04-02</td>\n",
       "      <td>14</td>\n",
       "      <td>13</td>\n",
       "      <td>max_dt_after_reg</td>\n",
       "    </tr>\n",
       "    <tr>\n",
       "      <th>4</th>\n",
       "      <td>41637532</td>\n",
       "      <td>IOS</td>\n",
       "      <td>2021-04-07</td>\n",
       "      <td>2021-04-01</td>\n",
       "      <td>3127</td>\n",
       "      <td>2021-03-24</td>\n",
       "      <td>2021-04-08</td>\n",
       "      <td>2021-04-07</td>\n",
       "      <td>14</td>\n",
       "      <td>1</td>\n",
       "      <td>max_dt_after_reg</td>\n",
       "    </tr>\n",
       "    <tr>\n",
       "      <th>5</th>\n",
       "      <td>41578997</td>\n",
       "      <td>ANDROID</td>\n",
       "      <td>2021-04-01</td>\n",
       "      <td>2021-04-01</td>\n",
       "      <td>1603</td>\n",
       "      <td>2021-03-18</td>\n",
       "      <td>2021-04-09</td>\n",
       "      <td>2021-04-01</td>\n",
       "      <td>14</td>\n",
       "      <td>8</td>\n",
       "      <td>max_dt_after_reg</td>\n",
       "    </tr>\n",
       "    <tr>\n",
       "      <th>6</th>\n",
       "      <td>41574472</td>\n",
       "      <td>IOS</td>\n",
       "      <td>2021-04-01</td>\n",
       "      <td>2021-04-01</td>\n",
       "      <td>10697</td>\n",
       "      <td>2021-03-18</td>\n",
       "      <td>2021-04-14</td>\n",
       "      <td>2021-04-01</td>\n",
       "      <td>14</td>\n",
       "      <td>13</td>\n",
       "      <td>max_dt_after_reg</td>\n",
       "    </tr>\n",
       "  </tbody>\n",
       "</table>\n",
       "</div>"
      ],
      "text/plain": [
       "    user_id platform   reg_date steps_date  cnt_steps steps_date_min  \\\n",
       "2  41494466      IOS 2021-03-28 2021-04-01       5635     2021-03-14   \n",
       "3  41583452      IOS 2021-04-02 2021-04-01       1840     2021-03-19   \n",
       "4  41637532      IOS 2021-04-07 2021-04-01       3127     2021-03-24   \n",
       "5  41578997  ANDROID 2021-04-01 2021-04-01       1603     2021-03-18   \n",
       "6  41574472      IOS 2021-04-01 2021-04-01      10697     2021-03-18   \n",
       "\n",
       "  steps_date_max reg_date_first  days_before_reg  days_after_reg  \\\n",
       "2     2021-04-10     2021-03-28               14              13   \n",
       "3     2021-04-15     2021-04-02               14              13   \n",
       "4     2021-04-08     2021-04-07               14               1   \n",
       "5     2021-04-09     2021-04-01               14               8   \n",
       "6     2021-04-14     2021-04-01               14              13   \n",
       "\n",
       "           reg_mark  \n",
       "2  max_dt_after_reg  \n",
       "3  max_dt_after_reg  \n",
       "4  max_dt_after_reg  \n",
       "5  max_dt_after_reg  \n",
       "6  max_dt_after_reg  "
      ]
     },
     "execution_count": 31,
     "metadata": {},
     "output_type": "execute_result"
    }
   ],
   "source": [
    "# overview\n",
    "final_df.head()"
   ]
  },
  {
   "cell_type": "code",
   "execution_count": 33,
   "id": "a97ad301",
   "metadata": {},
   "outputs": [
    {
     "name": "stdout",
     "output_type": "stream",
     "text": [
      "unique users after filtering data: 2883\n"
     ]
    }
   ],
   "source": [
    "print('unique users after filtering data:', len(final_df['user_id'].unique()))"
   ]
  },
  {
   "cell_type": "markdown",
   "id": "771f5502",
   "metadata": {},
   "source": [
    "### 2.5. Activity on work and weekend days"
   ]
  },
  {
   "cell_type": "code",
   "execution_count": 34,
   "id": "b411fcbe",
   "metadata": {},
   "outputs": [
    {
     "data": {
      "text/html": [
       "<div>\n",
       "<style scoped>\n",
       "    .dataframe tbody tr th:only-of-type {\n",
       "        vertical-align: middle;\n",
       "    }\n",
       "\n",
       "    .dataframe tbody tr th {\n",
       "        vertical-align: top;\n",
       "    }\n",
       "\n",
       "    .dataframe thead th {\n",
       "        text-align: right;\n",
       "    }\n",
       "</style>\n",
       "<table border=\"1\" class=\"dataframe\">\n",
       "  <thead>\n",
       "    <tr style=\"text-align: right;\">\n",
       "      <th></th>\n",
       "      <th>user_id</th>\n",
       "      <th>platform</th>\n",
       "      <th>reg_date</th>\n",
       "      <th>steps_date</th>\n",
       "      <th>cnt_steps</th>\n",
       "      <th>steps_date_min</th>\n",
       "      <th>steps_date_max</th>\n",
       "      <th>reg_date_first</th>\n",
       "      <th>days_before_reg</th>\n",
       "      <th>days_after_reg</th>\n",
       "      <th>reg_mark</th>\n",
       "      <th>day_of_the_week</th>\n",
       "      <th>is_weekend</th>\n",
       "    </tr>\n",
       "  </thead>\n",
       "  <tbody>\n",
       "    <tr>\n",
       "      <th>2</th>\n",
       "      <td>41494466</td>\n",
       "      <td>IOS</td>\n",
       "      <td>2021-03-28</td>\n",
       "      <td>2021-04-01</td>\n",
       "      <td>5635</td>\n",
       "      <td>2021-03-14</td>\n",
       "      <td>2021-04-10</td>\n",
       "      <td>2021-03-28</td>\n",
       "      <td>14</td>\n",
       "      <td>13</td>\n",
       "      <td>max_dt_after_reg</td>\n",
       "      <td>3</td>\n",
       "      <td>work_day</td>\n",
       "    </tr>\n",
       "    <tr>\n",
       "      <th>3</th>\n",
       "      <td>41583452</td>\n",
       "      <td>IOS</td>\n",
       "      <td>2021-04-02</td>\n",
       "      <td>2021-04-01</td>\n",
       "      <td>1840</td>\n",
       "      <td>2021-03-19</td>\n",
       "      <td>2021-04-15</td>\n",
       "      <td>2021-04-02</td>\n",
       "      <td>14</td>\n",
       "      <td>13</td>\n",
       "      <td>max_dt_after_reg</td>\n",
       "      <td>3</td>\n",
       "      <td>work_day</td>\n",
       "    </tr>\n",
       "    <tr>\n",
       "      <th>4</th>\n",
       "      <td>41637532</td>\n",
       "      <td>IOS</td>\n",
       "      <td>2021-04-07</td>\n",
       "      <td>2021-04-01</td>\n",
       "      <td>3127</td>\n",
       "      <td>2021-03-24</td>\n",
       "      <td>2021-04-08</td>\n",
       "      <td>2021-04-07</td>\n",
       "      <td>14</td>\n",
       "      <td>1</td>\n",
       "      <td>max_dt_after_reg</td>\n",
       "      <td>3</td>\n",
       "      <td>work_day</td>\n",
       "    </tr>\n",
       "    <tr>\n",
       "      <th>5</th>\n",
       "      <td>41578997</td>\n",
       "      <td>ANDROID</td>\n",
       "      <td>2021-04-01</td>\n",
       "      <td>2021-04-01</td>\n",
       "      <td>1603</td>\n",
       "      <td>2021-03-18</td>\n",
       "      <td>2021-04-09</td>\n",
       "      <td>2021-04-01</td>\n",
       "      <td>14</td>\n",
       "      <td>8</td>\n",
       "      <td>max_dt_after_reg</td>\n",
       "      <td>3</td>\n",
       "      <td>work_day</td>\n",
       "    </tr>\n",
       "    <tr>\n",
       "      <th>6</th>\n",
       "      <td>41574472</td>\n",
       "      <td>IOS</td>\n",
       "      <td>2021-04-01</td>\n",
       "      <td>2021-04-01</td>\n",
       "      <td>10697</td>\n",
       "      <td>2021-03-18</td>\n",
       "      <td>2021-04-14</td>\n",
       "      <td>2021-04-01</td>\n",
       "      <td>14</td>\n",
       "      <td>13</td>\n",
       "      <td>max_dt_after_reg</td>\n",
       "      <td>3</td>\n",
       "      <td>work_day</td>\n",
       "    </tr>\n",
       "  </tbody>\n",
       "</table>\n",
       "</div>"
      ],
      "text/plain": [
       "    user_id platform   reg_date steps_date  cnt_steps steps_date_min  \\\n",
       "2  41494466      IOS 2021-03-28 2021-04-01       5635     2021-03-14   \n",
       "3  41583452      IOS 2021-04-02 2021-04-01       1840     2021-03-19   \n",
       "4  41637532      IOS 2021-04-07 2021-04-01       3127     2021-03-24   \n",
       "5  41578997  ANDROID 2021-04-01 2021-04-01       1603     2021-03-18   \n",
       "6  41574472      IOS 2021-04-01 2021-04-01      10697     2021-03-18   \n",
       "\n",
       "  steps_date_max reg_date_first  days_before_reg  days_after_reg  \\\n",
       "2     2021-04-10     2021-03-28               14              13   \n",
       "3     2021-04-15     2021-04-02               14              13   \n",
       "4     2021-04-08     2021-04-07               14               1   \n",
       "5     2021-04-09     2021-04-01               14               8   \n",
       "6     2021-04-14     2021-04-01               14              13   \n",
       "\n",
       "           reg_mark  day_of_the_week is_weekend  \n",
       "2  max_dt_after_reg                3   work_day  \n",
       "3  max_dt_after_reg                3   work_day  \n",
       "4  max_dt_after_reg                3   work_day  \n",
       "5  max_dt_after_reg                3   work_day  \n",
       "6  max_dt_after_reg                3   work_day  "
      ]
     },
     "execution_count": 34,
     "metadata": {},
     "output_type": "execute_result"
    }
   ],
   "source": [
    "final_df = final_df.copy()\n",
    "\n",
    "final_df['day_of_the_week'] = final_df['steps_date'].apply(lambda x: x.weekday())\n",
    "final_df['is_weekend'] = final_df['day_of_the_week'].apply(lambda x: 'weekend_day' if x in [5, 6] else 'work_day')\n",
    "\n",
    "final_df.head()"
   ]
  },
  {
   "cell_type": "markdown",
   "id": "7828b4d0",
   "metadata": {},
   "source": [
    "### Exploratory Data Analysis. Conclusions:\n",
    "- Number of unique users at the start of EDA = 3,526\n",
    "- Main platforms: iOS and Android, split approximately 60% to 40%\n",
    "- Data spans from January to April 2021, so seasonality may be a factor\n",
    "- Users whose maximum activity date is less than or equal to their registration date were identified and filtered\n",
    "- Days of the week were extracted, and a weekend indicator was added"
   ]
  },
  {
   "cell_type": "markdown",
   "id": "18cac8e0",
   "metadata": {},
   "source": [
    "## 3. Compare two groups of users"
   ]
  },
  {
   "cell_type": "markdown",
   "id": "6eac6c7a",
   "metadata": {},
   "source": [
    "### 3.1. Split dataset on two parts"
   ]
  },
  {
   "cell_type": "code",
   "execution_count": 35,
   "id": "3cfa6231",
   "metadata": {},
   "outputs": [],
   "source": [
    "# split\n",
    "df_before_app = final_df.loc[final_df['steps_date'] < final_df['reg_date']]\n",
    "df_after_app = final_df.loc[(final_df['steps_date'] > final_df['reg_date']) | (final_df['steps_date'] == final_df['reg_date'])]"
   ]
  },
  {
   "cell_type": "code",
   "execution_count": 36,
   "id": "46397745",
   "metadata": {},
   "outputs": [
    {
     "data": {
      "text/plain": [
       "(73074, 13)"
      ]
     },
     "execution_count": 36,
     "metadata": {},
     "output_type": "execute_result"
    }
   ],
   "source": [
    "# check frames 1\n",
    "final_df.shape"
   ]
  },
  {
   "cell_type": "code",
   "execution_count": 37,
   "id": "f8816fbd",
   "metadata": {},
   "outputs": [
    {
     "data": {
      "text/plain": [
       "((39202, 13), (33872, 13))"
      ]
     },
     "execution_count": 37,
     "metadata": {},
     "output_type": "execute_result"
    }
   ],
   "source": [
    "# check frames 2\n",
    "df_before_app.shape, df_after_app.shape"
   ]
  },
  {
   "cell_type": "code",
   "execution_count": 38,
   "id": "1295ac5b",
   "metadata": {},
   "outputs": [
    {
     "data": {
      "text/plain": [
       "2883"
      ]
     },
     "execution_count": 38,
     "metadata": {},
     "output_type": "execute_result"
    }
   ],
   "source": [
    "# check count of users 1\n",
    "len(final_df['user_id'].unique())"
   ]
  },
  {
   "cell_type": "code",
   "execution_count": 39,
   "id": "4c2ad939",
   "metadata": {},
   "outputs": [
    {
     "data": {
      "text/plain": [
       "(2872, 2883)"
      ]
     },
     "execution_count": 39,
     "metadata": {},
     "output_type": "execute_result"
    }
   ],
   "source": [
    "# check count of users \n",
    "len(df_before_app['user_id'].unique()), len(df_after_app['user_id'].unique())"
   ]
  },
  {
   "cell_type": "code",
   "execution_count": 40,
   "id": "4ccc4c6a",
   "metadata": {},
   "outputs": [
    {
     "data": {
      "text/plain": [
       "11"
      ]
     },
     "execution_count": 40,
     "metadata": {},
     "output_type": "execute_result"
    }
   ],
   "source": [
    "# why? maybe steps_date_min == reg_date\n",
    "len(df_after_app['user_id'].unique()) - len(df_before_app['user_id'].unique())"
   ]
  },
  {
   "cell_type": "code",
   "execution_count": 41,
   "id": "6c0676b6",
   "metadata": {},
   "outputs": [
    {
     "name": "stdout",
     "output_type": "stream",
     "text": [
      "not crossing users [41319653, 41402549, 41182405, 41677710, 41611190, 40774769, 41676727, 41371984, 41286706, 40755819, 41376771] 11\n"
     ]
    }
   ],
   "source": [
    "# find users with steps_date_min == reg_date\n",
    "a = df_before_app['user_id'].unique()\n",
    "b = df_after_app['user_id'].unique()\n",
    "\n",
    "result = [item for item in b if item not in a]  \n",
    "print('not crossing users', result, len(result))    "
   ]
  },
  {
   "cell_type": "code",
   "execution_count": 42,
   "id": "a4acb60b",
   "metadata": {},
   "outputs": [],
   "source": [
    "# delete them\n",
    "df_after_app = df_after_app.drop(df_after_app.loc[df_after_app['user_id'].isin(result)].index)"
   ]
  },
  {
   "cell_type": "code",
   "execution_count": 43,
   "id": "b4114b79",
   "metadata": {},
   "outputs": [
    {
     "data": {
      "text/plain": [
       "(2872, 2872)"
      ]
     },
     "execution_count": 43,
     "metadata": {},
     "output_type": "execute_result"
    }
   ],
   "source": [
    "# overview\n",
    "len(df_before_app['user_id'].unique()), len(df_after_app['user_id'].unique())"
   ]
  },
  {
   "cell_type": "markdown",
   "id": "bf991746",
   "metadata": {},
   "source": [
    "**Previously a large number of users with zero steps was found. Let’s check if there are users whose maximum step count equals zero in both tables.**"
   ]
  },
  {
   "cell_type": "code",
   "execution_count": 44,
   "id": "9df685f9",
   "metadata": {},
   "outputs": [
    {
     "data": {
      "text/plain": [
       "(1148, 2)"
      ]
     },
     "execution_count": 44,
     "metadata": {},
     "output_type": "execute_result"
    }
   ],
   "source": [
    "# check the users with 0 steps before registration df_before_app\n",
    "zero_steps_before = df_before_app.groupby('user_id').agg({'cnt_steps':'mean'}).reset_index().query('cnt_steps == 0')\n",
    "zero_steps_before.shape"
   ]
  },
  {
   "cell_type": "code",
   "execution_count": 45,
   "id": "074bdfb7",
   "metadata": {},
   "outputs": [
    {
     "data": {
      "text/plain": [
       "array([19761882, 20702719, 24770769, 31877017, 40272343])"
      ]
     },
     "execution_count": 45,
     "metadata": {},
     "output_type": "execute_result"
    }
   ],
   "source": [
    "# list to delete\n",
    "users_to_del = zero_steps_before['user_id'].unique()\n",
    "users_to_del[:5]"
   ]
  },
  {
   "cell_type": "code",
   "execution_count": 46,
   "id": "147c29cc",
   "metadata": {},
   "outputs": [
    {
     "data": {
      "text/plain": [
       "(7, 2)"
      ]
     },
     "execution_count": 46,
     "metadata": {},
     "output_type": "execute_result"
    }
   ],
   "source": [
    "# check the users with 0 step before registration df_after_app\n",
    "zero_steps_after = df_after_app.groupby('user_id').agg({'cnt_steps':'mean'}).reset_index().query('cnt_steps == 0')\n",
    "zero_steps_after.shape"
   ]
  },
  {
   "cell_type": "code",
   "execution_count": 47,
   "id": "9d98cceb",
   "metadata": {},
   "outputs": [
    {
     "name": "stdout",
     "output_type": "stream",
     "text": [
      "yes 40827793\n",
      "yes 40905566\n",
      "yes 41065548\n",
      "yes 41143481\n",
      "yes 41277102\n",
      "yes 41283456\n",
      "yes 41458874\n",
      "_______________\n",
      "cnt 7\n"
     ]
    }
   ],
   "source": [
    "# are these users crossed?\n",
    "count = 0\n",
    "for i in zero_steps_after['user_id']:\n",
    "    if i in users_to_del:\n",
    "        print('yes', i)\n",
    "        count += 1\n",
    "print('_______________')        \n",
    "print('cnt', count)        "
   ]
  },
  {
   "cell_type": "code",
   "execution_count": 48,
   "id": "7f87cb90",
   "metadata": {},
   "outputs": [],
   "source": [
    "# delete them\n",
    "df_before_app = df_before_app.drop(df_before_app.loc[df_before_app['user_id'].isin(users_to_del)].index)\n",
    "df_after_app = df_after_app.drop(df_after_app.loc[df_after_app['user_id'].isin(users_to_del)].index)"
   ]
  },
  {
   "cell_type": "code",
   "execution_count": 49,
   "id": "99ea1e56",
   "metadata": {},
   "outputs": [
    {
     "data": {
      "text/plain": [
       "(1724, 1724)"
      ]
     },
     "execution_count": 49,
     "metadata": {},
     "output_type": "execute_result"
    }
   ],
   "source": [
    "# overview\n",
    "len(df_before_app['user_id'].unique()), len(df_after_app['user_id'].unique())"
   ]
  },
  {
   "cell_type": "code",
   "execution_count": 50,
   "id": "820b3710",
   "metadata": {},
   "outputs": [
    {
     "data": {
      "text/plain": [
       "((23304, 13), (20145, 13))"
      ]
     },
     "execution_count": 50,
     "metadata": {},
     "output_type": "execute_result"
    }
   ],
   "source": [
    "# delete them\n",
    "df_before_app.shape, df_after_app.shape"
   ]
  },
  {
   "cell_type": "markdown",
   "id": "1755301f",
   "metadata": {},
   "source": [
    "- Removed users who had no data before registration\n",
    "- Removed users who had only zero-step data before registration"
   ]
  },
  {
   "cell_type": "markdown",
   "id": "446f84ed",
   "metadata": {},
   "source": [
    "### 3.2. Count Metrics for two groups"
   ]
  },
  {
   "cell_type": "code",
   "execution_count": 51,
   "id": "9270fb4e",
   "metadata": {},
   "outputs": [
    {
     "name": "stdout",
     "output_type": "stream",
     "text": [
      "avg steps before using app 4818\n"
     ]
    }
   ],
   "source": [
    "# avg steps before using app \n",
    "mean_steps_b = round(df_before_app['cnt_steps'].mean())\n",
    "print(f'avg steps before using app {mean_steps_b}')"
   ]
  },
  {
   "cell_type": "code",
   "execution_count": 52,
   "id": "0a4e3afa",
   "metadata": {},
   "outputs": [
    {
     "data": {
      "text/html": [
       "<div>\n",
       "<style scoped>\n",
       "    .dataframe tbody tr th:only-of-type {\n",
       "        vertical-align: middle;\n",
       "    }\n",
       "\n",
       "    .dataframe tbody tr th {\n",
       "        vertical-align: top;\n",
       "    }\n",
       "\n",
       "    .dataframe thead th {\n",
       "        text-align: right;\n",
       "    }\n",
       "</style>\n",
       "<table border=\"1\" class=\"dataframe\">\n",
       "  <thead>\n",
       "    <tr style=\"text-align: right;\">\n",
       "      <th></th>\n",
       "      <th>day_of_the_week</th>\n",
       "      <th>cnt_users</th>\n",
       "      <th>cnt_steps_before</th>\n",
       "    </tr>\n",
       "  </thead>\n",
       "  <tbody>\n",
       "    <tr>\n",
       "      <th>0</th>\n",
       "      <td>0</td>\n",
       "      <td>1716</td>\n",
       "      <td>4930.0</td>\n",
       "    </tr>\n",
       "    <tr>\n",
       "      <th>1</th>\n",
       "      <td>1</td>\n",
       "      <td>1715</td>\n",
       "      <td>4946.0</td>\n",
       "    </tr>\n",
       "    <tr>\n",
       "      <th>2</th>\n",
       "      <td>2</td>\n",
       "      <td>1713</td>\n",
       "      <td>5075.0</td>\n",
       "    </tr>\n",
       "    <tr>\n",
       "      <th>3</th>\n",
       "      <td>3</td>\n",
       "      <td>1716</td>\n",
       "      <td>5119.0</td>\n",
       "    </tr>\n",
       "    <tr>\n",
       "      <th>4</th>\n",
       "      <td>4</td>\n",
       "      <td>1713</td>\n",
       "      <td>5067.0</td>\n",
       "    </tr>\n",
       "    <tr>\n",
       "      <th>5</th>\n",
       "      <td>5</td>\n",
       "      <td>1713</td>\n",
       "      <td>4774.0</td>\n",
       "    </tr>\n",
       "    <tr>\n",
       "      <th>6</th>\n",
       "      <td>6</td>\n",
       "      <td>1712</td>\n",
       "      <td>3808.0</td>\n",
       "    </tr>\n",
       "  </tbody>\n",
       "</table>\n",
       "</div>"
      ],
      "text/plain": [
       "   day_of_the_week  cnt_users  cnt_steps_before\n",
       "0                0       1716            4930.0\n",
       "1                1       1715            4946.0\n",
       "2                2       1713            5075.0\n",
       "3                3       1716            5119.0\n",
       "4                4       1713            5067.0\n",
       "5                5       1713            4774.0\n",
       "6                6       1712            3808.0"
      ]
     },
     "execution_count": 52,
     "metadata": {},
     "output_type": "execute_result"
    }
   ],
   "source": [
    "# avg steps before using app via week days\n",
    "weekly_steps_b = (df_before_app\n",
    "                    .groupby(['day_of_the_week'])\n",
    "                    .agg({'user_id' : 'nunique', 'cnt_steps' : 'mean'})\n",
    "                    .reset_index()\n",
    "                    .rename(columns = {'user_id' : 'cnt_users', 'cnt_steps' : 'cnt_steps_before'})\n",
    "                )\n",
    "\n",
    "round(weekly_steps_b)"
   ]
  },
  {
   "cell_type": "code",
   "execution_count": 53,
   "id": "eb79df54",
   "metadata": {},
   "outputs": [
    {
     "data": {
      "text/html": [
       "<div>\n",
       "<style scoped>\n",
       "    .dataframe tbody tr th:only-of-type {\n",
       "        vertical-align: middle;\n",
       "    }\n",
       "\n",
       "    .dataframe tbody tr th {\n",
       "        vertical-align: top;\n",
       "    }\n",
       "\n",
       "    .dataframe thead th {\n",
       "        text-align: right;\n",
       "    }\n",
       "</style>\n",
       "<table border=\"1\" class=\"dataframe\">\n",
       "  <thead>\n",
       "    <tr style=\"text-align: right;\">\n",
       "      <th></th>\n",
       "      <th>is_weekend</th>\n",
       "      <th>cnt_users</th>\n",
       "      <th>cnt_steps_before</th>\n",
       "    </tr>\n",
       "  </thead>\n",
       "  <tbody>\n",
       "    <tr>\n",
       "      <th>0</th>\n",
       "      <td>weekend_day</td>\n",
       "      <td>1716</td>\n",
       "      <td>4293.0</td>\n",
       "    </tr>\n",
       "    <tr>\n",
       "      <th>1</th>\n",
       "      <td>work_day</td>\n",
       "      <td>1723</td>\n",
       "      <td>5027.0</td>\n",
       "    </tr>\n",
       "  </tbody>\n",
       "</table>\n",
       "</div>"
      ],
      "text/plain": [
       "    is_weekend  cnt_users  cnt_steps_before\n",
       "0  weekend_day       1716            4293.0\n",
       "1     work_day       1723            5027.0"
      ]
     },
     "execution_count": 53,
     "metadata": {},
     "output_type": "execute_result"
    }
   ],
   "source": [
    "# avg steps before using app via type of the day\n",
    "weekend_steps_b = (df_before_app\n",
    "                    .groupby(['is_weekend'])\n",
    "                    .agg({'user_id' : 'nunique', 'cnt_steps' : 'mean'})\n",
    "                    .reset_index()\n",
    "                    .rename(columns = {'user_id' : 'cnt_users', 'cnt_steps' : 'cnt_steps_before'})\n",
    "                )\n",
    "\n",
    "round(weekend_steps_b)"
   ]
  },
  {
   "cell_type": "code",
   "execution_count": 54,
   "id": "273b7b05",
   "metadata": {},
   "outputs": [
    {
     "name": "stdout",
     "output_type": "stream",
     "text": [
      "avg steps after using app  5369\n"
     ]
    }
   ],
   "source": [
    "# avg steps after using app \n",
    "mean_steps_af = round(df_after_app['cnt_steps'].mean())\n",
    "print(f'avg steps after using app  {mean_steps_af}')"
   ]
  },
  {
   "cell_type": "code",
   "execution_count": 55,
   "id": "cfd2f83d",
   "metadata": {},
   "outputs": [
    {
     "data": {
      "text/html": [
       "<div>\n",
       "<style scoped>\n",
       "    .dataframe tbody tr th:only-of-type {\n",
       "        vertical-align: middle;\n",
       "    }\n",
       "\n",
       "    .dataframe tbody tr th {\n",
       "        vertical-align: top;\n",
       "    }\n",
       "\n",
       "    .dataframe thead th {\n",
       "        text-align: right;\n",
       "    }\n",
       "</style>\n",
       "<table border=\"1\" class=\"dataframe\">\n",
       "  <thead>\n",
       "    <tr style=\"text-align: right;\">\n",
       "      <th></th>\n",
       "      <th>day_of_the_week</th>\n",
       "      <th>cnt_users</th>\n",
       "      <th>cnt_steps_after</th>\n",
       "    </tr>\n",
       "  </thead>\n",
       "  <tbody>\n",
       "    <tr>\n",
       "      <th>0</th>\n",
       "      <td>0</td>\n",
       "      <td>1611</td>\n",
       "      <td>5357.0</td>\n",
       "    </tr>\n",
       "    <tr>\n",
       "      <th>1</th>\n",
       "      <td>1</td>\n",
       "      <td>1626</td>\n",
       "      <td>5665.0</td>\n",
       "    </tr>\n",
       "    <tr>\n",
       "      <th>2</th>\n",
       "      <td>2</td>\n",
       "      <td>1622</td>\n",
       "      <td>5717.0</td>\n",
       "    </tr>\n",
       "    <tr>\n",
       "      <th>3</th>\n",
       "      <td>3</td>\n",
       "      <td>1578</td>\n",
       "      <td>5696.0</td>\n",
       "    </tr>\n",
       "    <tr>\n",
       "      <th>4</th>\n",
       "      <td>4</td>\n",
       "      <td>1559</td>\n",
       "      <td>5650.0</td>\n",
       "    </tr>\n",
       "    <tr>\n",
       "      <th>5</th>\n",
       "      <td>5</td>\n",
       "      <td>1559</td>\n",
       "      <td>5194.0</td>\n",
       "    </tr>\n",
       "    <tr>\n",
       "      <th>6</th>\n",
       "      <td>6</td>\n",
       "      <td>1585</td>\n",
       "      <td>4301.0</td>\n",
       "    </tr>\n",
       "  </tbody>\n",
       "</table>\n",
       "</div>"
      ],
      "text/plain": [
       "   day_of_the_week  cnt_users  cnt_steps_after\n",
       "0                0       1611           5357.0\n",
       "1                1       1626           5665.0\n",
       "2                2       1622           5717.0\n",
       "3                3       1578           5696.0\n",
       "4                4       1559           5650.0\n",
       "5                5       1559           5194.0\n",
       "6                6       1585           4301.0"
      ]
     },
     "execution_count": 55,
     "metadata": {},
     "output_type": "execute_result"
    }
   ],
   "source": [
    "# avg steps after using app via week days\n",
    "weekly_steps_af = (df_after_app\n",
    "                    .groupby(['day_of_the_week'])\n",
    "                    .agg({'user_id' : 'nunique', 'cnt_steps' : 'mean'})\n",
    "                    .reset_index()\n",
    "                    .rename(columns = {'user_id' : 'cnt_users', 'cnt_steps' : 'cnt_steps_after'})\n",
    "                )\n",
    "\n",
    "round(weekly_steps_af)"
   ]
  },
  {
   "cell_type": "code",
   "execution_count": 56,
   "id": "16e852be",
   "metadata": {},
   "outputs": [
    {
     "data": {
      "text/html": [
       "<div>\n",
       "<style scoped>\n",
       "    .dataframe tbody tr th:only-of-type {\n",
       "        vertical-align: middle;\n",
       "    }\n",
       "\n",
       "    .dataframe tbody tr th {\n",
       "        vertical-align: top;\n",
       "    }\n",
       "\n",
       "    .dataframe thead th {\n",
       "        text-align: right;\n",
       "    }\n",
       "</style>\n",
       "<table border=\"1\" class=\"dataframe\">\n",
       "  <thead>\n",
       "    <tr style=\"text-align: right;\">\n",
       "      <th></th>\n",
       "      <th>is_weekend</th>\n",
       "      <th>cnt_users</th>\n",
       "      <th>cnt_steps_after</th>\n",
       "    </tr>\n",
       "  </thead>\n",
       "  <tbody>\n",
       "    <tr>\n",
       "      <th>0</th>\n",
       "      <td>weekend_day</td>\n",
       "      <td>1610</td>\n",
       "      <td>4744.0</td>\n",
       "    </tr>\n",
       "    <tr>\n",
       "      <th>1</th>\n",
       "      <td>work_day</td>\n",
       "      <td>1715</td>\n",
       "      <td>5617.0</td>\n",
       "    </tr>\n",
       "  </tbody>\n",
       "</table>\n",
       "</div>"
      ],
      "text/plain": [
       "    is_weekend  cnt_users  cnt_steps_after\n",
       "0  weekend_day       1610           4744.0\n",
       "1     work_day       1715           5617.0"
      ]
     },
     "execution_count": 56,
     "metadata": {},
     "output_type": "execute_result"
    }
   ],
   "source": [
    "# avg steps after using app via type of the day\n",
    "weekend_steps_af = (df_after_app\n",
    "                    .groupby(['is_weekend'])\n",
    "                    .agg({'user_id' : 'nunique', 'cnt_steps' : 'mean'})\n",
    "                    .reset_index()\n",
    "                    .rename(columns = {'user_id' : 'cnt_users', 'cnt_steps' : 'cnt_steps_after'})\n",
    "                )\n",
    "\n",
    "round(weekend_steps_af)"
   ]
  },
  {
   "cell_type": "markdown",
   "id": "2608ae42",
   "metadata": {},
   "source": [
    "### 3.2. Compare two groups"
   ]
  },
  {
   "cell_type": "code",
   "execution_count": 57,
   "id": "7505eeb6",
   "metadata": {},
   "outputs": [
    {
     "data": {
      "text/plain": [
       "10"
      ]
     },
     "execution_count": 57,
     "metadata": {},
     "output_type": "execute_result"
    }
   ],
   "source": [
    "# perc of growth\n",
    "round((1 - mean_steps_b / mean_steps_af) * 100)"
   ]
  },
  {
   "cell_type": "code",
   "execution_count": 58,
   "id": "21a9f82e",
   "metadata": {},
   "outputs": [
    {
     "data": {
      "text/html": [
       "<div>\n",
       "<style scoped>\n",
       "    .dataframe tbody tr th:only-of-type {\n",
       "        vertical-align: middle;\n",
       "    }\n",
       "\n",
       "    .dataframe tbody tr th {\n",
       "        vertical-align: top;\n",
       "    }\n",
       "\n",
       "    .dataframe thead th {\n",
       "        text-align: right;\n",
       "    }\n",
       "</style>\n",
       "<table border=\"1\" class=\"dataframe\">\n",
       "  <thead>\n",
       "    <tr style=\"text-align: right;\">\n",
       "      <th></th>\n",
       "      <th>day_of_the_week</th>\n",
       "      <th>cnt_users</th>\n",
       "      <th>cnt_steps_before</th>\n",
       "      <th>cnt_steps_after</th>\n",
       "      <th>growth_perc</th>\n",
       "    </tr>\n",
       "  </thead>\n",
       "  <tbody>\n",
       "    <tr>\n",
       "      <th>0</th>\n",
       "      <td>0</td>\n",
       "      <td>1716</td>\n",
       "      <td>4930.37</td>\n",
       "      <td>5357.30</td>\n",
       "      <td>7.97</td>\n",
       "    </tr>\n",
       "    <tr>\n",
       "      <th>1</th>\n",
       "      <td>1</td>\n",
       "      <td>1715</td>\n",
       "      <td>4945.81</td>\n",
       "      <td>5665.47</td>\n",
       "      <td>12.70</td>\n",
       "    </tr>\n",
       "    <tr>\n",
       "      <th>2</th>\n",
       "      <td>2</td>\n",
       "      <td>1713</td>\n",
       "      <td>5075.00</td>\n",
       "      <td>5716.77</td>\n",
       "      <td>11.23</td>\n",
       "    </tr>\n",
       "    <tr>\n",
       "      <th>3</th>\n",
       "      <td>3</td>\n",
       "      <td>1716</td>\n",
       "      <td>5119.39</td>\n",
       "      <td>5696.09</td>\n",
       "      <td>10.12</td>\n",
       "    </tr>\n",
       "    <tr>\n",
       "      <th>4</th>\n",
       "      <td>4</td>\n",
       "      <td>1713</td>\n",
       "      <td>5066.59</td>\n",
       "      <td>5650.12</td>\n",
       "      <td>10.33</td>\n",
       "    </tr>\n",
       "    <tr>\n",
       "      <th>5</th>\n",
       "      <td>5</td>\n",
       "      <td>1713</td>\n",
       "      <td>4773.89</td>\n",
       "      <td>5193.76</td>\n",
       "      <td>8.08</td>\n",
       "    </tr>\n",
       "    <tr>\n",
       "      <th>6</th>\n",
       "      <td>6</td>\n",
       "      <td>1712</td>\n",
       "      <td>3808.47</td>\n",
       "      <td>4300.94</td>\n",
       "      <td>11.45</td>\n",
       "    </tr>\n",
       "  </tbody>\n",
       "</table>\n",
       "</div>"
      ],
      "text/plain": [
       "   day_of_the_week  cnt_users  cnt_steps_before  cnt_steps_after  growth_perc\n",
       "0                0       1716           4930.37          5357.30         7.97\n",
       "1                1       1715           4945.81          5665.47        12.70\n",
       "2                2       1713           5075.00          5716.77        11.23\n",
       "3                3       1716           5119.39          5696.09        10.12\n",
       "4                4       1713           5066.59          5650.12        10.33\n",
       "5                5       1713           4773.89          5193.76         8.08\n",
       "6                6       1712           3808.47          4300.94        11.45"
      ]
     },
     "execution_count": 58,
     "metadata": {},
     "output_type": "execute_result"
    }
   ],
   "source": [
    "# via weekdays\n",
    "compare_weekly_df = weekly_steps_b.merge(weekly_steps_af[['day_of_the_week', 'cnt_steps_after']], on = 'day_of_the_week', how = 'inner')\n",
    "compare_weekly_df['growth_perc'] = round((1 - (compare_weekly_df['cnt_steps_before'] / compare_weekly_df['cnt_steps_after'])) * 100,2)\n",
    "round(compare_weekly_df,2)"
   ]
  },
  {
   "cell_type": "code",
   "execution_count": 59,
   "id": "c6a5d1f1",
   "metadata": {},
   "outputs": [
    {
     "data": {
      "text/html": [
       "<div>\n",
       "<style scoped>\n",
       "    .dataframe tbody tr th:only-of-type {\n",
       "        vertical-align: middle;\n",
       "    }\n",
       "\n",
       "    .dataframe tbody tr th {\n",
       "        vertical-align: top;\n",
       "    }\n",
       "\n",
       "    .dataframe thead th {\n",
       "        text-align: right;\n",
       "    }\n",
       "</style>\n",
       "<table border=\"1\" class=\"dataframe\">\n",
       "  <thead>\n",
       "    <tr style=\"text-align: right;\">\n",
       "      <th></th>\n",
       "      <th>is_weekend</th>\n",
       "      <th>cnt_users</th>\n",
       "      <th>cnt_steps_before</th>\n",
       "      <th>cnt_steps_after</th>\n",
       "      <th>growth_perc</th>\n",
       "    </tr>\n",
       "  </thead>\n",
       "  <tbody>\n",
       "    <tr>\n",
       "      <th>0</th>\n",
       "      <td>weekend_day</td>\n",
       "      <td>1716</td>\n",
       "      <td>4292.63</td>\n",
       "      <td>4743.75</td>\n",
       "      <td>9.51</td>\n",
       "    </tr>\n",
       "    <tr>\n",
       "      <th>1</th>\n",
       "      <td>work_day</td>\n",
       "      <td>1723</td>\n",
       "      <td>5027.46</td>\n",
       "      <td>5616.76</td>\n",
       "      <td>10.49</td>\n",
       "    </tr>\n",
       "  </tbody>\n",
       "</table>\n",
       "</div>"
      ],
      "text/plain": [
       "    is_weekend  cnt_users  cnt_steps_before  cnt_steps_after  growth_perc\n",
       "0  weekend_day       1716           4292.63          4743.75         9.51\n",
       "1     work_day       1723           5027.46          5616.76        10.49"
      ]
     },
     "execution_count": 59,
     "metadata": {},
     "output_type": "execute_result"
    }
   ],
   "source": [
    "# via type of the day\n",
    "compare_weekend_df = weekend_steps_b.merge(weekend_steps_af[['is_weekend', 'cnt_steps_after']], on = 'is_weekend', how = 'inner')\n",
    "compare_weekend_df['growth_perc'] = round((1 - (compare_weekend_df['cnt_steps_before'] / compare_weekend_df['cnt_steps_after'])) * 100,2)\n",
    "round(compare_weekend_df,2)"
   ]
  },
  {
   "cell_type": "markdown",
   "id": "21d09531",
   "metadata": {},
   "source": [
    "### 3.3. Make Plots"
   ]
  },
  {
   "cell_type": "code",
   "execution_count": 60,
   "id": "1fe6e795",
   "metadata": {},
   "outputs": [
    {
     "data": {
      "image/png": "[encoded data removed]",
      "text/plain": [
       "<Figure size 720x432 with 1 Axes>"
      ]
     },
     "metadata": {
      "needs_background": "light"
     },
     "output_type": "display_data"
    }
   ],
   "source": [
    "fig, ax = plt.subplots(figsize=(10, 6))\n",
    "\n",
    "data1 = weekly_steps_b['cnt_steps_before']\n",
    "data2 = weekly_steps_af['cnt_steps_after']\n",
    "days = ['Monday', 'Tuesday', 'Wednesday', 'Thursday', 'Friday', 'Saturday', 'Sunday']\n",
    "\n",
    "width = 0.35\n",
    "x = np.arange(len(days))\n",
    "\n",
    "bars1 = ax.bar(x - width/2, data1, width, label='Before App', color='#6c757d')  # muted grey\n",
    "bars2 = ax.bar(x + width/2, data2, width, label='After App', color='#fd7e14')   # vibrant orange\n",
    "\n",
    "# Labels and title\n",
    "ax.set_ylabel('Average Steps', fontsize=12)\n",
    "ax.set_xlabel('Day of the Week', fontsize=12)\n",
    "ax.set_title('Average Steps Before and After Using the App', fontsize=14, fontweight='bold')\n",
    "ax.set_xticks(x)\n",
    "ax.set_xticklabels(days, fontsize=11)\n",
    "ax.legend(fontsize=12)\n",
    "\n",
    "# Add gridlines\n",
    "ax.grid(axis='y', linestyle='--', alpha=0.7)\n",
    "\n",
    "# Add value labels on top of bars\n",
    "def add_labels(bars):\n",
    "    for bar in bars:\n",
    "        height = bar.get_height()\n",
    "        ax.annotate(f'{int(height)}',\n",
    "                    xy=(bar.get_x() + bar.get_width() / 2, height),\n",
    "                    xytext=(0, 3),  # offset label position\n",
    "                    textcoords=\"offset points\",\n",
    "                    ha='center', va='bottom', fontsize=10, color='black')\n",
    "\n",
    "add_labels(bars1)\n",
    "add_labels(bars2)\n",
    "\n",
    "plt.tight_layout()\n",
    "plt.show()\n"
   ]
  },
  {
   "cell_type": "code",
   "execution_count": 61,
   "id": "2cf55bff",
   "metadata": {},
   "outputs": [
    {
     "data": {
      "image/png": "[encoded data removed]",
      "text/plain": [
       "<Figure size 576x360 with 1 Axes>"
      ]
     },
     "metadata": {
      "needs_background": "light"
     },
     "output_type": "display_data"
    }
   ],
   "source": [
    "fig, ax = plt.subplots(figsize=(8, 5))\n",
    "\n",
    "data1 = weekend_steps_b['cnt_steps_before']\n",
    "data2 = weekend_steps_af['cnt_steps_after']\n",
    "day_types = ['Weekend Day', 'Work Day']\n",
    "\n",
    "width = 0.35\n",
    "x = np.arange(len(day_types))\n",
    "\n",
    "bars1 = ax.bar(x - width/2, data1, width, label='Before App', color='#6c757d')  # muted grey\n",
    "bars2 = ax.bar(x + width/2, data2, width, label='After App', color='#fd7e14')   # vibrant orange\n",
    "\n",
    "# Labels and title\n",
    "ax.set_ylabel('Average Steps', fontsize=12)\n",
    "ax.set_xlabel('Type of the Day', fontsize=12)\n",
    "ax.set_title('Average Steps Before and After Using the App', fontsize=14, fontweight='bold')\n",
    "ax.set_xticks(x)\n",
    "ax.set_xticklabels(day_types, fontsize=11)\n",
    "ax.legend(fontsize=12)\n",
    "\n",
    "# Add gridlines\n",
    "ax.grid(axis='y', linestyle='--', alpha=0.7)\n",
    "\n",
    "# Add value labels on top of bars\n",
    "def add_labels(bars):\n",
    "    for bar in bars:\n",
    "        height = bar.get_height()\n",
    "        ax.annotate(f'{int(height)}',\n",
    "                    xy=(bar.get_x() + bar.get_width() / 2, height),\n",
    "                    xytext=(0, 3),\n",
    "                    textcoords=\"offset points\",\n",
    "                    ha='center', va='bottom', fontsize=10, color='black')\n",
    "\n",
    "add_labels(bars1)\n",
    "add_labels(bars2)\n",
    "\n",
    "plt.tight_layout()\n",
    "plt.show()\n"
   ]
  },
  {
   "cell_type": "markdown",
   "id": "66eed17e",
   "metadata": {},
   "source": [
    "### 3.4. Check statistical significance"
   ]
  },
  {
   "cell_type": "code",
   "execution_count": 62,
   "id": "9d5b7d41",
   "metadata": {},
   "outputs": [
    {
     "data": {
      "text/html": [
       "<div>\n",
       "<style scoped>\n",
       "    .dataframe tbody tr th:only-of-type {\n",
       "        vertical-align: middle;\n",
       "    }\n",
       "\n",
       "    .dataframe tbody tr th {\n",
       "        vertical-align: top;\n",
       "    }\n",
       "\n",
       "    .dataframe thead th {\n",
       "        text-align: right;\n",
       "    }\n",
       "</style>\n",
       "<table border=\"1\" class=\"dataframe\">\n",
       "  <thead>\n",
       "    <tr style=\"text-align: right;\">\n",
       "      <th></th>\n",
       "      <th>user_id</th>\n",
       "      <th>avg_steps_before</th>\n",
       "      <th>avg_steps_after</th>\n",
       "    </tr>\n",
       "  </thead>\n",
       "  <tbody>\n",
       "    <tr>\n",
       "      <th>0</th>\n",
       "      <td>19161801</td>\n",
       "      <td>3049.571429</td>\n",
       "      <td>6986.428571</td>\n",
       "    </tr>\n",
       "    <tr>\n",
       "      <th>1</th>\n",
       "      <td>20395818</td>\n",
       "      <td>1025.928571</td>\n",
       "      <td>456.600000</td>\n",
       "    </tr>\n",
       "    <tr>\n",
       "      <th>2</th>\n",
       "      <td>39957739</td>\n",
       "      <td>870.500000</td>\n",
       "      <td>1066.000000</td>\n",
       "    </tr>\n",
       "    <tr>\n",
       "      <th>3</th>\n",
       "      <td>40549741</td>\n",
       "      <td>5160.857143</td>\n",
       "      <td>7683.000000</td>\n",
       "    </tr>\n",
       "    <tr>\n",
       "      <th>4</th>\n",
       "      <td>40572583</td>\n",
       "      <td>3126.307692</td>\n",
       "      <td>2736.214286</td>\n",
       "    </tr>\n",
       "  </tbody>\n",
       "</table>\n",
       "</div>"
      ],
      "text/plain": [
       "    user_id  avg_steps_before  avg_steps_after\n",
       "0  19161801       3049.571429      6986.428571\n",
       "1  20395818       1025.928571       456.600000\n",
       "2  39957739        870.500000      1066.000000\n",
       "3  40549741       5160.857143      7683.000000\n",
       "4  40572583       3126.307692      2736.214286"
      ]
     },
     "execution_count": 62,
     "metadata": {},
     "output_type": "execute_result"
    }
   ],
   "source": [
    "# avg steps per users\n",
    "t1 = df_before_app.groupby('user_id').agg({'cnt_steps':'mean'}).reset_index().rename(columns = {'cnt_steps' : 'avg_steps_before'})\n",
    "t2 = df_after_app.groupby('user_id').agg({'cnt_steps':'mean'}).reset_index().rename(columns = {'cnt_steps' : 'avg_steps_after'})\n",
    "\n",
    "df_compare = t1.merge(t2, how = 'inner', on = 'user_id')\n",
    "df_compare.head()"
   ]
  },
  {
   "cell_type": "code",
   "execution_count": 63,
   "id": "d74a219a-8d8f-46d8-a2ba-b8b36005f18a",
   "metadata": {},
   "outputs": [
    {
     "name": "stdout",
     "output_type": "stream",
     "text": [
      "<class 'pandas.core.frame.DataFrame'>\n",
      "RangeIndex: 1724 entries, 0 to 1723\n",
      "Data columns (total 3 columns):\n",
      " #   Column            Non-Null Count  Dtype  \n",
      "---  ------            --------------  -----  \n",
      " 0   user_id           1724 non-null   int64  \n",
      " 1   avg_steps_before  1724 non-null   float64\n",
      " 2   avg_steps_after   1724 non-null   float64\n",
      "dtypes: float64(2), int64(1)\n",
      "memory usage: 40.5 KB\n"
     ]
    }
   ],
   "source": [
    "df_compare.info()"
   ]
  },
  {
   "cell_type": "code",
   "execution_count": 64,
   "id": "207bbc3b-1309-4a0a-9c73-8d1d6d32917d",
   "metadata": {},
   "outputs": [
    {
     "name": "stdout",
     "output_type": "stream",
     "text": [
      "Shapiro-Wilk test statistic = 0.9225, p-value = 0.0000\n",
      "The distribution of differences is likely NOT normal (p ≤ 0.05). Consider using a non-parametric test, like the Wilcoxon signed-rank test.\n"
     ]
    }
   ],
   "source": [
    "# Calculate difference\n",
    "diff = df_compare['avg_steps_after'] - df_compare['avg_steps_before']\n",
    "\n",
    "# Shapiro-Wilk test for normality\n",
    "stat, p = shapiro(diff)\n",
    "\n",
    "# Print result\n",
    "print(f'Shapiro-Wilk test statistic = {stat:.4f}, p-value = {p:.4f}')\n",
    "if p > 0.05:\n",
    "    print(\"The distribution of differences is likely normal (p > 0.05). You can use a paired t-test.\")\n",
    "else:\n",
    "    print(\"The distribution of differences is likely NOT normal (p ≤ 0.05). Consider using a non-parametric test, like the Wilcoxon signed-rank test.\")\n"
   ]
  },
  {
   "cell_type": "code",
   "execution_count": 65,
   "id": "347dd79b-7cab-472d-aee2-cf83610981a1",
   "metadata": {},
   "outputs": [
    {
     "name": "stdout",
     "output_type": "stream",
     "text": [
      "Average steps before app: 4774.82\n",
      "Average steps after app:  5282.60\n",
      "\n",
      "Wilcoxon signed-rank test statistic = 560431.0000, p-value = 0.0000\n",
      "✅ Statistically significant difference between 'before' and 'after' (p < 0.05).\n"
     ]
    }
   ],
   "source": [
    "# Calculate means\n",
    "mean_before = df_compare['avg_steps_before'].mean()\n",
    "mean_after = df_compare['avg_steps_after'].mean()\n",
    "\n",
    "print(f\"Average steps before app: {mean_before:.2f}\")\n",
    "print(f\"Average steps after app:  {mean_after:.2f}\\n\")\n",
    "\n",
    "# Wilcoxon signed-rank test\n",
    "stat, p = wilcoxon(df_compare['avg_steps_before'], df_compare['avg_steps_after'])\n",
    "\n",
    "print(f'Wilcoxon signed-rank test statistic = {stat:.4f}, p-value = {p:.4f}')\n",
    "\n",
    "if p < 0.05:\n",
    "    print(\"✅ Statistically significant difference between 'before' and 'after' (p < 0.05).\")\n",
    "else:\n",
    "    print(\"ℹ️ No statistically significant difference found (p ≥ 0.05).\")\n"
   ]
  },
  {
   "cell_type": "code",
   "execution_count": 66,
   "id": "179c827b",
   "metadata": {},
   "outputs": [
    {
     "data": {
      "image/png": "[encoded data removed]",
      "text/plain": [
       "<Figure size 720x360 with 1 Axes>"
      ]
     },
     "metadata": {
      "needs_background": "light"
     },
     "output_type": "display_data"
    }
   ],
   "source": [
    "# Prepare the data\n",
    "data = [df_compare['avg_steps_before'], df_compare['avg_steps_after']]\n",
    "labels = ['Before App', 'After App']\n",
    "colors = ['#6c757d', '#fd7e14']  # Grey and orange\n",
    "\n",
    "# Create the plot\n",
    "fig, ax = plt.subplots(figsize=(10, 5))\n",
    "box = ax.boxplot(data, patch_artist=True, vert=False, tick_labels=labels, widths=0.6)\n",
    "\n",
    "\n",
    "# Style the boxes\n",
    "for i, patch in enumerate(box['boxes']):\n",
    "    patch.set_facecolor(colors[i])\n",
    "    patch.set_edgecolor('black')\n",
    "    patch.set_alpha(0.6)\n",
    "    patch.set_linewidth(1.5)\n",
    "\n",
    "# Style the medians\n",
    "for median in box['medians']:\n",
    "    median.set_color('black')\n",
    "    median.set_linewidth(2)\n",
    "\n",
    "# Style the whiskers and caps\n",
    "for whisker in box['whiskers']:\n",
    "    whisker.set_color('gray')\n",
    "    whisker.set_linewidth(1)\n",
    "\n",
    "for cap in box['caps']:\n",
    "    cap.set_color('gray')\n",
    "    cap.set_linewidth(1)\n",
    "\n",
    "# Title and labels\n",
    "ax.set_title('Distribution of Average Steps Before and After App Use', fontsize=15, fontweight='bold')\n",
    "ax.set_xlabel('Average Steps', fontsize=13)\n",
    "ax.set_yticklabels(labels, fontsize=12)\n",
    "ax.set_xticks(ax.get_xticks())\n",
    "ax.set_xticklabels([f'{int(tick):,}' for tick in ax.get_xticks()], fontsize=11)\n",
    "\n",
    "# Grid styling\n",
    "ax.grid(axis='x', linestyle='--', alpha=0.3)\n",
    "ax.spines['top'].set_visible(False)\n",
    "ax.spines['right'].set_visible(False)\n",
    "\n",
    "plt.tight_layout()\n",
    "plt.show()\n"
   ]
  },
  {
   "cell_type": "markdown",
   "id": "e56cd474",
   "metadata": {},
   "source": [
    "### 3.5. Check Growth & Recession"
   ]
  },
  {
   "cell_type": "code",
   "execution_count": 67,
   "id": "e3d409e0-7f70-4da1-90c7-8052bca59f5f",
   "metadata": {},
   "outputs": [
    {
     "data": {
      "text/html": [
       "<div>\n",
       "<style scoped>\n",
       "    .dataframe tbody tr th:only-of-type {\n",
       "        vertical-align: middle;\n",
       "    }\n",
       "\n",
       "    .dataframe tbody tr th {\n",
       "        vertical-align: top;\n",
       "    }\n",
       "\n",
       "    .dataframe thead th {\n",
       "        text-align: right;\n",
       "    }\n",
       "</style>\n",
       "<table border=\"1\" class=\"dataframe\">\n",
       "  <thead>\n",
       "    <tr style=\"text-align: right;\">\n",
       "      <th></th>\n",
       "      <th>growth_perc</th>\n",
       "      <th>cnt_users</th>\n",
       "    </tr>\n",
       "  </thead>\n",
       "  <tbody>\n",
       "    <tr>\n",
       "      <th>0</th>\n",
       "      <td>0% - 10%</td>\n",
       "      <td>191</td>\n",
       "    </tr>\n",
       "    <tr>\n",
       "      <th>1</th>\n",
       "      <td>10% - 20%</td>\n",
       "      <td>160</td>\n",
       "    </tr>\n",
       "    <tr>\n",
       "      <th>2</th>\n",
       "      <td>100% - 200%</td>\n",
       "      <td>115</td>\n",
       "    </tr>\n",
       "    <tr>\n",
       "      <th>3</th>\n",
       "      <td>20% - 30%</td>\n",
       "      <td>123</td>\n",
       "    </tr>\n",
       "    <tr>\n",
       "      <th>4</th>\n",
       "      <td>200% +</td>\n",
       "      <td>112</td>\n",
       "    </tr>\n",
       "    <tr>\n",
       "      <th>5</th>\n",
       "      <td>30% - 40%</td>\n",
       "      <td>85</td>\n",
       "    </tr>\n",
       "    <tr>\n",
       "      <th>6</th>\n",
       "      <td>40% - 50%</td>\n",
       "      <td>58</td>\n",
       "    </tr>\n",
       "    <tr>\n",
       "      <th>7</th>\n",
       "      <td>50% - 60%</td>\n",
       "      <td>54</td>\n",
       "    </tr>\n",
       "    <tr>\n",
       "      <th>8</th>\n",
       "      <td>60% - 70%</td>\n",
       "      <td>33</td>\n",
       "    </tr>\n",
       "    <tr>\n",
       "      <th>9</th>\n",
       "      <td>70% - 80%</td>\n",
       "      <td>39</td>\n",
       "    </tr>\n",
       "    <tr>\n",
       "      <th>10</th>\n",
       "      <td>80% - 90%</td>\n",
       "      <td>28</td>\n",
       "    </tr>\n",
       "    <tr>\n",
       "      <th>11</th>\n",
       "      <td>90% - 100%</td>\n",
       "      <td>27</td>\n",
       "    </tr>\n",
       "  </tbody>\n",
       "</table>\n",
       "</div>"
      ],
      "text/plain": [
       "    growth_perc  cnt_users\n",
       "0      0% - 10%        191\n",
       "1     10% - 20%        160\n",
       "2   100% - 200%        115\n",
       "3     20% - 30%        123\n",
       "4        200% +        112\n",
       "5     30% - 40%         85\n",
       "6     40% - 50%         58\n",
       "7     50% - 60%         54\n",
       "8     60% - 70%         33\n",
       "9     70% - 80%         39\n",
       "10    80% - 90%         28\n",
       "11   90% - 100%         27"
      ]
     },
     "execution_count": 67,
     "metadata": {},
     "output_type": "execute_result"
    }
   ],
   "source": [
    "# Bins and labels must match: len(labels) == len(bins) + 1\n",
    "growth_bins = [10, 20, 30, 40, 50, 60, 70, 80, 90, 100, 200]\n",
    "growth_labels = [\n",
    "    '0% - 10%', '10% - 20%', '20% - 30%', '30% - 40%', '40% - 50%',\n",
    "    '50% - 60%', '60% - 70%', '70% - 80%', '80% - 90%', '90% - 100%',\n",
    "    '100% - 200%', '200% +'\n",
    "]\n",
    "\n",
    "decline_bins = [-200, -100, -90, -80, -70, -60, -50, -40, -30, -20, -10]\n",
    "decline_labels = [\n",
    "    '200% -', '100% - 200%', '90% - 100%', '80% - 90%', '70% - 80%',\n",
    "    '60% - 70%', '50% - 60%', '40% - 50%', '30% - 40%', '20% - 30%',\n",
    "    '10% - 20%', '0% - 10%'\n",
    "]\n",
    "\n",
    "# Unified categorization function\n",
    "def percent_cluster(x):\n",
    "    if x >= 0:\n",
    "        idx = bisect.bisect_right(growth_bins, x)\n",
    "        return growth_labels[idx]\n",
    "    else:\n",
    "        idx = bisect.bisect_right(decline_bins, x)\n",
    "        return decline_labels[idx]\n",
    "\n",
    "# Calculations\n",
    "df_compare['diff_abs'] = df_compare['avg_steps_after'] - df_compare['avg_steps_before']\n",
    "df_compare['diff_perc'] = (df_compare['diff_abs'] / df_compare['avg_steps_before'] * 100).fillna(0)\n",
    "\n",
    "df_compare['growth_mark'] = (df_compare['diff_perc'] >= 0).astype(int)\n",
    "df_compare['growth_perc'] = df_compare['diff_perc'].apply(percent_cluster)\n",
    "\n",
    "# Group and aggregate\n",
    "growth_clusters = (\n",
    "    df_compare.query('growth_mark == 1')\n",
    "              .groupby('growth_perc', as_index=False)['user_id']\n",
    "              .count()\n",
    "              .rename(columns={'user_id': 'cnt_users'})\n",
    "              .sort_values('growth_perc', ascending=True)\n",
    ")\n",
    "\n",
    "growth_clusters\n"
   ]
  },
  {
   "cell_type": "code",
   "execution_count": 68,
   "id": "5a7b450e",
   "metadata": {},
   "outputs": [
    {
     "data": {
      "image/png": "[encoded data removed]",
      "text/plain": [
       "<Figure size 864x432 with 1 Axes>"
      ]
     },
     "metadata": {},
     "output_type": "display_data"
    }
   ],
   "source": [
    "sns.set(style=\"whitegrid\")\n",
    "plt.figure(figsize=(12, 6))\n",
    "\n",
    "# Define a color palette with the same length as your data\n",
    "palette = sns.color_palette(\"flare\", len(growth_clusters))\n",
    "\n",
    "plots = sns.barplot(\n",
    "    x=\"growth_perc\",\n",
    "    y=\"cnt_users\",\n",
    "    data=growth_clusters,\n",
    "    color='orange',  # temporary, will overwrite colors below\n",
    "    edgecolor='black'\n",
    ")\n",
    "\n",
    "# Assign colors manually to each bar to avoid the warning\n",
    "for bar, color in zip(plots.patches, palette):\n",
    "    bar.set_facecolor(color)\n",
    "    bar.set_edgecolor('black')\n",
    "    bar.set_linewidth(1.2)\n",
    "    bar.set_alpha(0.9)\n",
    "\n",
    "# Annotate bars\n",
    "for bar in plots.patches:\n",
    "    height = bar.get_height()\n",
    "    plots.annotate(\n",
    "        f'{height:.2f}',\n",
    "        (bar.get_x() + bar.get_width() / 2, height),\n",
    "        ha='center',\n",
    "        va='bottom',\n",
    "        fontsize=12,\n",
    "        fontweight='bold',\n",
    "        xytext=(0, 8),\n",
    "        textcoords='offset points',\n",
    "        color='black'\n",
    "    )\n",
    "\n",
    "plt.xlabel(\"Groups of Growth\", fontsize=14, fontweight='semibold')\n",
    "plt.ylabel(\"Count of Users\", fontsize=14, fontweight='semibold')\n",
    "plt.title(\"Percent of Growth After Using App\", fontsize=18, fontweight='bold')\n",
    "plt.xticks(rotation=45, fontsize=12, color='navy')\n",
    "plots.yaxis.grid(True, color='gray', linestyle='--', alpha=0.6)\n",
    "plots.xaxis.grid(False)\n",
    "plt.ylim(0, max(growth_clusters['cnt_users']) * 1.15)\n",
    "plt.tight_layout()\n",
    "plt.show()\n"
   ]
  },
  {
   "cell_type": "code",
   "execution_count": 69,
   "id": "07da7d31",
   "metadata": {},
   "outputs": [
    {
     "data": {
      "text/html": [
       "<div>\n",
       "<style scoped>\n",
       "    .dataframe tbody tr th:only-of-type {\n",
       "        vertical-align: middle;\n",
       "    }\n",
       "\n",
       "    .dataframe tbody tr th {\n",
       "        vertical-align: top;\n",
       "    }\n",
       "\n",
       "    .dataframe thead th {\n",
       "        text-align: right;\n",
       "    }\n",
       "</style>\n",
       "<table border=\"1\" class=\"dataframe\">\n",
       "  <thead>\n",
       "    <tr style=\"text-align: right;\">\n",
       "      <th></th>\n",
       "      <th>growth_perc</th>\n",
       "      <th>cnt_users</th>\n",
       "    </tr>\n",
       "  </thead>\n",
       "  <tbody>\n",
       "    <tr>\n",
       "      <th>0</th>\n",
       "      <td>0% - 10%</td>\n",
       "      <td>170</td>\n",
       "    </tr>\n",
       "    <tr>\n",
       "      <th>1</th>\n",
       "      <td>10% - 20%</td>\n",
       "      <td>168</td>\n",
       "    </tr>\n",
       "    <tr>\n",
       "      <th>2</th>\n",
       "      <td>20% - 30%</td>\n",
       "      <td>133</td>\n",
       "    </tr>\n",
       "    <tr>\n",
       "      <th>3</th>\n",
       "      <td>30% - 40%</td>\n",
       "      <td>88</td>\n",
       "    </tr>\n",
       "    <tr>\n",
       "      <th>4</th>\n",
       "      <td>40% - 50%</td>\n",
       "      <td>57</td>\n",
       "    </tr>\n",
       "    <tr>\n",
       "      <th>5</th>\n",
       "      <td>50% - 60%</td>\n",
       "      <td>36</td>\n",
       "    </tr>\n",
       "    <tr>\n",
       "      <th>6</th>\n",
       "      <td>60% - 70%</td>\n",
       "      <td>23</td>\n",
       "    </tr>\n",
       "    <tr>\n",
       "      <th>7</th>\n",
       "      <td>70% - 80%</td>\n",
       "      <td>16</td>\n",
       "    </tr>\n",
       "    <tr>\n",
       "      <th>8</th>\n",
       "      <td>80% - 90%</td>\n",
       "      <td>6</td>\n",
       "    </tr>\n",
       "    <tr>\n",
       "      <th>9</th>\n",
       "      <td>90% - 100%</td>\n",
       "      <td>2</td>\n",
       "    </tr>\n",
       "  </tbody>\n",
       "</table>\n",
       "</div>"
      ],
      "text/plain": [
       "  growth_perc  cnt_users\n",
       "0    0% - 10%        170\n",
       "1   10% - 20%        168\n",
       "2   20% - 30%        133\n",
       "3   30% - 40%         88\n",
       "4   40% - 50%         57\n",
       "5   50% - 60%         36\n",
       "6   60% - 70%         23\n",
       "7   70% - 80%         16\n",
       "8   80% - 90%          6\n",
       "9  90% - 100%          2"
      ]
     },
     "execution_count": 69,
     "metadata": {},
     "output_type": "execute_result"
    }
   ],
   "source": [
    "# pivot recession clusters\n",
    "recession_clusters = (df_compare\n",
    "                    .query('growth_mark == 0')\n",
    "                    .groupby('growth_perc')\n",
    "                    .agg({'user_id':'count'})\n",
    "                    .reset_index()\n",
    "                    .rename(columns = {'user_id' : 'cnt_users'})\n",
    "                    .sort_values(by = 'cnt_users', ascending = False)\n",
    "                     )\n",
    "recession_clusters"
   ]
  },
  {
   "cell_type": "code",
   "execution_count": 70,
   "id": "8a8925c6",
   "metadata": {},
   "outputs": [
    {
     "data": {
      "image/png": "[encoded data removed]",
      "text/plain": [
       "<Figure size 864x432 with 1 Axes>"
      ]
     },
     "metadata": {},
     "output_type": "display_data"
    }
   ],
   "source": [
    "sns.set(style=\"whitegrid\")\n",
    "plt.figure(figsize=(12, 6))\n",
    "\n",
    "# Green color palette for bars\n",
    "palette = sns.color_palette(\"Greens\", len(recession_clusters))\n",
    "\n",
    "plots = sns.barplot(\n",
    "    x=\"growth_perc\",\n",
    "    y=\"cnt_users\",\n",
    "    data=recession_clusters,\n",
    "    color='green',  # placeholder, will override colors below\n",
    "    edgecolor='darkgreen'\n",
    ")\n",
    "\n",
    "# Assign each bar a shade of green from the palette\n",
    "for bar, color in zip(plots.patches, palette):\n",
    "    bar.set_facecolor(color)\n",
    "    bar.set_edgecolor('darkgreen')\n",
    "    bar.set_linewidth(1.2)\n",
    "    bar.set_alpha(0.95)\n",
    "\n",
    "# Annotate bars with count values, above bars\n",
    "for bar in plots.patches:\n",
    "    height = bar.get_height()\n",
    "    plots.annotate(\n",
    "        f'{height:.2f}',\n",
    "        (bar.get_x() + bar.get_width() / 2, height),\n",
    "        ha='center',\n",
    "        va='bottom',\n",
    "        fontsize=12,\n",
    "        fontweight='bold',\n",
    "        xytext=(0, 8),\n",
    "        textcoords='offset points',\n",
    "        color='black'\n",
    "    )\n",
    "\n",
    "plt.xlabel(\"Groups of Recession\", fontsize=14, fontweight='semibold')\n",
    "plt.ylabel(\"Count of Users\", fontsize=14, fontweight='semibold')\n",
    "plt.title(\"Percent of Recession After Using App\", fontsize=18, fontweight='bold')\n",
    "\n",
    "plt.xticks(rotation=45, fontsize=12, color='darkgreen')\n",
    "plots.yaxis.grid(True, color='gray', linestyle='--', alpha=0.5)\n",
    "plots.xaxis.grid(False)\n",
    "\n",
    "plt.ylim(0, max(recession_clusters['cnt_users']) * 1.15)\n",
    "plt.tight_layout()\n",
    "plt.show()\n"
   ]
  },
  {
   "cell_type": "code",
   "execution_count": 71,
   "id": "62617460",
   "metadata": {},
   "outputs": [
    {
     "name": "stdout",
     "output_type": "stream",
     "text": [
      "Percentage of users who experienced metric growth: 59.45%\n",
      "Percentage of users who experienced metric decline: 40.55%\n"
     ]
    }
   ],
   "source": [
    "# percentage of growth and recession\n",
    "cnt_growth = growth_clusters['cnt_users'].sum()\n",
    "cnt_recession = recession_clusters['cnt_users'].sum()\n",
    "total = cnt_growth + cnt_recession\n",
    "\n",
    "print(f'Percentage of users who experienced metric growth: {round(cnt_growth / total * 100, 2)}%')\n",
    "print(f'Percentage of users who experienced metric decline: {round(cnt_recession / total * 100, 2)}%')\n"
   ]
  },
  {
   "cell_type": "markdown",
   "id": "671df7fc",
   "metadata": {},
   "source": [
    "### Compare two groups of users. Conclusions:\n",
    "- The final table is divided into 2 groups: data before app installation and data after app installation.  \n",
    "- Some users were excluded:  \n",
    "  - Those whose minimum step date equals their registration date.  \n",
    "  - Those whose maximum number of steps is zero.  \n",
    "- Metrics were calculated for both groups:  \n",
    "  - Average number of steps by day of the week.  \n",
    "  - Average number of steps by day type (weekend or weekday).  \n",
    "  - Average number of steps per user before and after app installation.  \n",
    "- The average number of steps increased by 10% for users after installing the app.  \n",
    "- Statistical significance tests were performed to validate the results.  \n",
    "- Groups of users who showed growth in steps before and after using the app were analyzed (59% of users).  \n",
    "  - In both groups, the leaders were users with growth/decline of 10%, 20%, and 30% respectively compared to the rest.  \n",
    "- Groups of users who showed a decline in steps after using the app were analyzed (41% of users).  \n",
    "  - Most declines ranged between 10% and 30%.  \n",
    "- Number of users with increased steps = (%), number of users with decreased steps = (%).\n"
   ]
  },
  {
   "cell_type": "markdown",
   "id": "36da44bf",
   "metadata": {},
   "source": [
    "## 4. Results, Conclusions and Recommendations"
   ]
  },
  {
   "cell_type": "markdown",
   "id": "480ede55",
   "metadata": {},
   "source": [
    "### Results:\n",
    "An analysis of user data was conducted for the period January - April 2021. The main goal of the analysis was to answer the question: *“How did using the app affect the number of steps taken by users?”*\n",
    "\n",
    "The analysis consisted of 4 main stages:  \n",
    "1. Data preprocessing  \n",
    "2. Data exploration  \n",
    "3. Calculation and comparison of metrics by groups  \n",
    "4. Conclusions  \n",
    "\n",
    "- In the first stage, naming conventions were standardized, unnecessary data was removed, and key questions for discussion were defined.  \n",
    "- In the second stage, the number of unique users, main platforms, and data coverage period were identified; users were divided into groups based on the relationship between registration date and user’s max date; weekday and day type (weekend/weekday) features were added.  \n",
    "- In the third stage, the dataset was split into two subsets, key metrics were compared between groups, and the impact of app usage on average step count was evaluated.  \n",
    "- In the fourth stage, conclusions were drawn.  \n",
    "\n",
    "### Conclusions:\n",
    "1. Using the app positively affected the average number of steps taken by users, increasing the metric by 10%.  \n",
    "2. On weekdays, users walk more on average than on weekends.  \n",
    "3. Some users decreased their activity after starting to use the app.  \n",
    "4. The largest increases/decreases in average step counts were by 10%, 20%, and 30%, respectively.  \n",
    "\n",
    "### Recommendations:\n",
    "1. Since the analysis was performed during the winter-spring period, it is advisable to additionally check for seasonality effects in the second half of the year.  \n",
    "2. Investigate the long-term effect of app usage (from 60 days up to a year), as initial results can sometimes be influenced by novelty effects.  \n",
    "3. Discuss questions about the data that arose during the analysis process.\n"
   ]
  }
 ],
 "metadata": {
  "kernelspec": {
   "display_name": "Python 3 (ipykernel)",
   "language": "python",
   "name": "python3"
  },
  "language_info": {
   "codemirror_mode": {
    "name": "ipython",
    "version": 3
   },
   "file_extension": ".py",
   "mimetype": "text/x-python",
   "name": "python",
   "nbconvert_exporter": "python",
   "pygments_lexer": "ipython3",
   "version": "3.9.12"
  }
 },
 "nbformat": 4,
 "nbformat_minor": 5
}
