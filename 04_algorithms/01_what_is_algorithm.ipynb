{
 "cells": [
  {
   "cell_type": "markdown",
   "id": "d307b148-a9f6-412d-b915-12b222882754",
   "metadata": {},
   "source": [
    "# Lesson 1. What is algorithm?"
   ]
  },
  {
   "cell_type": "markdown",
   "id": "fd4e7a04-89c7-425b-949d-a6204e00887a",
   "metadata": {},
   "source": [
    "## Defenition and Key Features"
   ]
  },
  {
   "cell_type": "markdown",
   "id": "f189f907-ea72-4b9e-8b1b-10a4bec9c7b0",
   "metadata": {},
   "source": [
    "**What you will learn in this article**\n",
    "\n",
    "- What an algorithm is and what its properties are\n",
    "- How to describe algorithms using pseudocode and Python\n",
    "- What an algorithm looks like in real life and in code\n",
    "- Why the order of actions matters\n",
    "- How to learn to “read” other people’s algorithms"
   ]
  },
  {
   "cell_type": "markdown",
   "id": "3eea6ebe-febc-4852-9319-df187e40c042",
   "metadata": {},
   "source": [
    "🧩 Key terms\n",
    "\n",
    "- Algorithm — a clear sequence of actions leading to the solution of a problem.\n",
    "- Pseudocode — a description of an algorithm in a semi-programming language understandable to humans.\n",
    "- Operation — a step of an algorithm, an elementary action (for example, adding two numbers).\n",
    "- Executor — an entity (a person, a computer) that carries out the algorithm.\n",
    "\n",
    "🔹 What is an algorithm?\n",
    "- An algorithm is an exact and understandable set of steps that need to be performed to solve a specific problem. In programming, algorithms govern how we solve a task, not just what we do.\n",
    "\n",
    "📦 Analogy\n",
    "Imagine you bought a wardrobe at IKEA. Along with the parts in the box, you’ll find an instruction manual. That’s the algorithm! The manual contains:\n",
    "1) a sequence of steps (what to do and in what order),\n",
    "2) clear actions (insert a screw, attach a shelf),\n",
    "3) and a guaranteed result (a wardrobe you can use).\n",
    "\n",
    "But if you change the order of steps (for example, attach the doors first and then try to connect the side panels), everything will fall apart. It’s the same in programming: an algorithm must be correct and follow the right sequence."
   ]
  },
  {
   "cell_type": "markdown",
   "id": "dbf2b840-487a-44a7-a819-bd2064cc813c",
   "metadata": {},
   "source": [
    "🔹 **Properties of a Good Algorithm**\n",
    "\n",
    "1. **Finiteness (termination)** — An algorithm must finish after executing a finite number of steps. If you run a program and it never ends, that’s not an algorithm but an infinite process.\n",
    "\n",
    "2. **Definiteness (unambiguity)** — Each action in the algorithm must be interpreted in only one way. If a step says “act reasonably,” it’s not an algorithm because it can’t be reproduced without guessing.\n",
    "\n",
    "3. **Effectiveness (producing a result)** — An algorithm must produce a result — something useful that we can actually use.\n",
    "\n",
    "4. **Generality (applicability)** — An algorithm should be universal — it can be applied to many different input values. It shouldn’t be “hardcoded” for just one specific situation."
   ]
  },
  {
   "cell_type": "markdown",
   "id": "40449a78-7d54-4cd8-beff-2891d6226592",
   "metadata": {},
   "source": [
    "Here’s the English translation:\n",
    "\n",
    "🔹 **From Description to Implementation**\n",
    "When we first start solving a problem, it can be difficult to immediately write correct and readable code. In such cases, a step-by-step description of the algorithm’s logic — even before programming — is very helpful.\n",
    "\n",
    "This description is often called **pseudocode** — it’s not real code, but also not just plain text: it helps outline the structure of the future algorithm.\n",
    "\n",
    "📄 **What is pseudocode?**\n",
    "Pseudocode is a textual description of an algorithm, as close to code as possible, but written in natural language or with the use of “neutral” commands. It:\n",
    "\n",
    "* doesn’t require knowledge of Python (or any other language) syntax,\n",
    "* helps focus on the logic of actions,\n",
    "* makes it easier to move from the problem to the actual code.\n"
   ]
  },
  {
   "cell_type": "markdown",
   "id": "7f3404ad-d94b-4637-ae55-334c54a004ed",
   "metadata": {},
   "source": [
    "🧠 **Why This Works**\n",
    "Pseudocode is like a draft: it helps you keep track of your thoughts, avoid getting lost in language details, and clearly formulate what exactly the algorithm should do.\n",
    "\n",
    "This approach is especially useful:\n",
    "\n",
    "* when working in a team (others can understand your logic),\n",
    "* when preparing for interviews,\n",
    "* when solving competitive programming problems,\n",
    "* when learning (you can check whether you truly understand the essence of the algorithm).\n"
   ]
  },
  {
   "cell_type": "code",
   "execution_count": null,
   "id": "3db92553-0f59-4c1d-9587-47a5dae445ef",
   "metadata": {},
   "outputs": [],
   "source": []
  },
  {
   "cell_type": "code",
   "execution_count": null,
   "id": "9f3b3231-61dc-445e-b499-6b83472ac3a8",
   "metadata": {},
   "outputs": [],
   "source": []
  },
  {
   "cell_type": "code",
   "execution_count": null,
   "id": "4dd9b845-aae4-4c4a-99e0-4f14e36de945",
   "metadata": {},
   "outputs": [],
   "source": []
  },
  {
   "cell_type": "code",
   "execution_count": null,
   "id": "dfde9e94-0f81-49e0-8f78-397a72d3ef54",
   "metadata": {},
   "outputs": [],
   "source": [
    "# Lesson 1. What is algorithm?"
   ]
  },
  {
   "cell_type": "code",
   "execution_count": 1,
   "id": "1a0003c4-8341-4a66-be9e-01f7baed6c67",
   "metadata": {},
   "outputs": [],
   "source": [
    "def compound(amount, year_percent, months):\n",
    "    \"\"\"\n",
    "    Вычисление сложных процентов. Сложность O(N).\n",
    "    \"\"\"\n",
    "    month_percent = year_percent / 12\n",
    "\n",
    "    for month in range(months):\n",
    "        inc = amount / 100 * month_percent\n",
    "        amount += inc\n",
    "\n",
    "    return amount"
   ]
  },
  {
   "cell_type": "code",
   "execution_count": 4,
   "id": "574379c2-e2a2-46af-848b-2008188dea22",
   "metadata": {},
   "outputs": [
    {
     "data": {
      "text/plain": [
       "1149.8060175026726"
      ]
     },
     "execution_count": 4,
     "metadata": {},
     "output_type": "execute_result"
    }
   ],
   "source": [
    "compound(1000, 7, 24)"
   ]
  },
  {
   "cell_type": "code",
   "execution_count": null,
   "id": "a15d27ea-21c4-40ee-ab68-93673b96039a",
   "metadata": {},
   "outputs": [],
   "source": [
    "def compound(amount, year_percent, months):\n",
    "    \"\"\"\n",
    "    Вычисление сложных процентов. Сложность O(1).\n",
    "    \"\"\"\n",
    "    month_percent = year_percent / 12\n",
    "    return amount * (1 + month_percent / 100) ** months"
   ]
  },
  {
   "cell_type": "markdown",
   "id": "7518fb9d-ece6-4e38-9862-21281ce12f5d",
   "metadata": {},
   "source": [
    "## Linear Search"
   ]
  },
  {
   "cell_type": "code",
   "execution_count": 5,
   "id": "6f47a549-2038-4775-aa8a-bc60cf706032",
   "metadata": {},
   "outputs": [],
   "source": [
    "def linear_search(arr, target):\n",
    "    \"\"\"\n",
    "    Perform a linear search for the target in the given list.\n",
    "\n",
    "    Parameters:\n",
    "    arr (list): The list to search through.\n",
    "    target: The element to find.\n",
    "\n",
    "    Returns:\n",
    "    int: The index of the target element if found; otherwise, -1.\n",
    "    \"\"\"\n",
    "    for index, element in enumerate(arr):\n",
    "        if element == target:\n",
    "            return index\n",
    "    return -1\n"
   ]
  },
  {
   "cell_type": "code",
   "execution_count": 32,
   "id": "1350c142-eb6e-4b50-8abe-adb6fbd18b2a",
   "metadata": {},
   "outputs": [],
   "source": [
    "sample_list = [8,1,3,2,5,6,4,7,9]\n",
    "sample_sorted_list = sorted(sample_list)\n",
    "target_value = 1"
   ]
  },
  {
   "cell_type": "code",
   "execution_count": 33,
   "id": "9893c570-e3a1-49ed-a8ef-da6b47ee6ffc",
   "metadata": {},
   "outputs": [
    {
     "data": {
      "text/plain": [
       "1"
      ]
     },
     "execution_count": 33,
     "metadata": {},
     "output_type": "execute_result"
    }
   ],
   "source": [
    "linear_search(sample_list, target_value)"
   ]
  },
  {
   "cell_type": "code",
   "execution_count": 34,
   "id": "c1aa9ded-adfe-479f-9438-733641d18d9e",
   "metadata": {},
   "outputs": [
    {
     "data": {
      "text/plain": [
       "0"
      ]
     },
     "execution_count": 34,
     "metadata": {},
     "output_type": "execute_result"
    }
   ],
   "source": [
    "linear_search(sample_sorted_list, target_value)"
   ]
  },
  {
   "cell_type": "code",
   "execution_count": 35,
   "id": "fb36835d-e06a-48f1-ac2b-1d72c8282f20",
   "metadata": {},
   "outputs": [],
   "source": [
    "def linear_search_sorted(arr, target):\n",
    "    \"\"\"\n",
    "    Perform a linear search for the target in a sorted copy of the given list.\n",
    "\n",
    "    Parameters:\n",
    "    arr (list): The list to search through.\n",
    "    target: The element to find.\n",
    "\n",
    "    Returns:\n",
    "    int: The index of the target element in the sorted list if found; otherwise, -1.\n",
    "    \"\"\"\n",
    "    if not arr:  # Check if the list is empty\n",
    "        return -1\n",
    "\n",
    "    sorted_arr = sorted(arr)  # create a sorted copy of the list\n",
    "    for index, element in enumerate(sorted_arr):\n",
    "        if element == target:\n",
    "            return index\n",
    "        # Optional: could break early if element surpasses target (for sorted list)\n",
    "        if element > target:\n",
    "            break\n",
    "\n",
    "    return -1\n"
   ]
  },
  {
   "cell_type": "markdown",
   "id": "6aa8cfdb-7b95-403c-9b25-c1fa4e5e4eb1",
   "metadata": {},
   "source": [
    "## Selection Sort"
   ]
  },
  {
   "cell_type": "code",
   "execution_count": 47,
   "id": "f0e43b93-73ed-478f-aef7-bbf4ac6d3d0b",
   "metadata": {},
   "outputs": [],
   "source": [
    "def selection_sort(values):\n",
    "    \"\"\"\n",
    "    Сортировка выбором.\n",
    "    \"\"\"\n",
    "    # Перебираем все элементы.\n",
    "    for i in range(len(values) - 1):\n",
    "        min_idx = i\n",
    "        # Перебираем оставшиеся элементы.\n",
    "        for j in range(i + 1, len(values)):\n",
    "            # Ищем минимальное значение.\n",
    "            if values[min_idx] > values[j]:\n",
    "                min_idx = j\n",
    "\n",
    "        if i != min_idx:\n",
    "            # Меняем минимальное значение с текущим элементом основного цикла.\n",
    "            values[i], values[min_idx] = values[min_idx], values[i]\n",
    "    print(values)"
   ]
  },
  {
   "cell_type": "code",
   "execution_count": 48,
   "id": "4ec62794-baca-451a-a136-3b404b3fcea2",
   "metadata": {},
   "outputs": [
    {
     "name": "stdout",
     "output_type": "stream",
     "text": [
      "[1, 2, 3]\n"
     ]
    }
   ],
   "source": [
    "selection_sort([3,2,1])"
   ]
  }
 ],
 "metadata": {
  "kernelspec": {
   "display_name": "Python 3 (ipykernel)",
   "language": "python",
   "name": "python3"
  },
  "language_info": {
   "codemirror_mode": {
    "name": "ipython",
    "version": 3
   },
   "file_extension": ".py",
   "mimetype": "text/x-python",
   "name": "python",
   "nbconvert_exporter": "python",
   "pygments_lexer": "ipython3",
   "version": "3.9.12"
  }
 },
 "nbformat": 4,
 "nbformat_minor": 5
}
